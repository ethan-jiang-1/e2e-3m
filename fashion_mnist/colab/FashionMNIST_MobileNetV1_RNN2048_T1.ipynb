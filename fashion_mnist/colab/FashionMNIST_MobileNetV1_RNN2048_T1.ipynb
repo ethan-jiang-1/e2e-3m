{
  "nbformat": 4,
  "nbformat_minor": 0,
  "metadata": {
    "colab": {
      "name": "FashionMNIST_MobileNetV1_RNN2048_T1.ipynb",
      "provenance": [],
      "collapsed_sections": []
    },
    "kernelspec": {
      "name": "python3",
      "display_name": "Python 3"
    },
    "accelerator": "GPU"
  },
  "cells": [
    {
      "cell_type": "code",
      "metadata": {
        "id": "ddS2ZoUzyFKK",
        "colab_type": "code",
        "colab": {
          "base_uri": "https://localhost:8080/",
          "height": 224
        },
        "outputId": "3eb2d355-d6a0-430a-a0bc-6e49f02d38ab"
      },
      "source": [
        "!wget http://fashion-mnist.s3-website.eu-central-1.amazonaws.com/train-images-idx3-ubyte.gz"
      ],
      "execution_count": null,
      "outputs": [
        {
          "output_type": "stream",
          "text": [
            "--2019-10-18 06:29:24--  http://fashion-mnist.s3-website.eu-central-1.amazonaws.com/train-images-idx3-ubyte.gz\n",
            "Resolving fashion-mnist.s3-website.eu-central-1.amazonaws.com (fashion-mnist.s3-website.eu-central-1.amazonaws.com)... 52.219.74.70\n",
            "Connecting to fashion-mnist.s3-website.eu-central-1.amazonaws.com (fashion-mnist.s3-website.eu-central-1.amazonaws.com)|52.219.74.70|:80... connected.\n",
            "HTTP request sent, awaiting response... 200 OK\n",
            "Length: 26421880 (25M) [binary/octet-stream]\n",
            "Saving to: ‘train-images-idx3-ubyte.gz’\n",
            "\n",
            "train-images-idx3-u 100%[===================>]  25.20M   103MB/s    in 0.2s    \n",
            "\n",
            "2019-10-18 06:29:30 (103 MB/s) - ‘train-images-idx3-ubyte.gz’ saved [26421880/26421880]\n",
            "\n"
          ],
          "name": "stdout"
        }
      ]
    },
    {
      "cell_type": "code",
      "metadata": {
        "id": "jESn7MLaj7YN",
        "colab_type": "code",
        "colab": {
          "base_uri": "https://localhost:8080/",
          "height": 170
        },
        "outputId": "e729fc3c-bc11-49b2-eafd-f73b3603c21e"
      },
      "source": [
        "from keras.datasets import fashion_mnist\n",
        "((trainX, trainY), (testX, testY)) = fashion_mnist.load_data()"
      ],
      "execution_count": null,
      "outputs": [
        {
          "output_type": "stream",
          "text": [
            "Using TensorFlow backend.\n"
          ],
          "name": "stderr"
        },
        {
          "output_type": "stream",
          "text": [
            "Downloading data from http://fashion-mnist.s3-website.eu-central-1.amazonaws.com/train-labels-idx1-ubyte.gz\n",
            "32768/29515 [=================================] - 0s 0us/step\n",
            "Downloading data from http://fashion-mnist.s3-website.eu-central-1.amazonaws.com/train-images-idx3-ubyte.gz\n",
            "26427392/26421880 [==============================] - 0s 0us/step\n",
            "Downloading data from http://fashion-mnist.s3-website.eu-central-1.amazonaws.com/t10k-labels-idx1-ubyte.gz\n",
            "8192/5148 [===============================================] - 0s 0us/step\n",
            "Downloading data from http://fashion-mnist.s3-website.eu-central-1.amazonaws.com/t10k-images-idx3-ubyte.gz\n",
            "4423680/4422102 [==============================] - 0s 0us/step\n"
          ],
          "name": "stdout"
        }
      ]
    },
    {
      "cell_type": "code",
      "metadata": {
        "id": "27phU4ngjmhu",
        "colab_type": "code",
        "colab": {
          "base_uri": "https://localhost:8080/",
          "height": 85
        },
        "outputId": "9a209d38-3f4d-4aab-f749-c02ec7134c2e"
      },
      "source": [
        "print('Train data shape: ', trainX.shape)\n",
        "print('Train labels shape: ', trainY.shape)\n",
        "print('Test data shape: ', testX.shape)\n",
        "print('Test labels shape: ', testY.shape)"
      ],
      "execution_count": null,
      "outputs": [
        {
          "output_type": "stream",
          "text": [
            "Train data shape:  (60000, 28, 28)\n",
            "Train labels shape:  (60000,)\n",
            "Test data shape:  (10000, 28, 28)\n",
            "Test labels shape:  (10000,)\n"
          ],
          "name": "stdout"
        }
      ]
    },
    {
      "cell_type": "code",
      "metadata": {
        "id": "-tkYp20fmzNB",
        "colab_type": "code",
        "colab": {}
      },
      "source": [
        "import os\n",
        "import cv2\n",
        "import numpy as np\n",
        "\n",
        "train_image = 'train-images-idx3-ubyte'\n",
        "train_label = 'train-labels-idx1-ubyte'\n",
        "test_image = 't10k-images-idx3-ubyte'\n",
        "test_label = 't10k-labels-idx1-ubyte'\n",
        "\n",
        "for f in [train_image, train_label, test_image, test_label]:\n",
        "\tos.system('wget --no-check-certificate http://fashion-mnist.s3-website.eu-central-1.amazonaws.com/%s.gz' % (f,))\n",
        "\t\n",
        "for f in [train_image, train_label, test_image, test_label]:\n",
        "\tos.system('gunzip %s.gz' % (f,))\n",
        "\n",
        "for image_f, label_f in [(train_image, train_label), (test_image, test_label)]:\n",
        "    with open(image_f, 'rb') as f:\n",
        "        images = f.read()\n",
        "    with open(label_f, 'rb') as f:\n",
        "        labels = f.read()\n",
        "        \n",
        "    images = [d for d in images[16:]]\n",
        "    images = np.array(images, dtype=np.uint8)\n",
        "    images = images.reshape((-1,28,28))\n",
        "    \n",
        "    ground_truths = labels[8:]\n",
        "\t\n",
        "    outdir = image_f + \"_folder\"\n",
        "    if not os.path.exists(outdir):\n",
        "        os.mkdir(outdir)\n",
        "    for k,image in enumerate(images):\n",
        "        # image directory\n",
        "        img_directory = os.path.join(outdir, str(ground_truths[k]))\n",
        "\n",
        "        # create folder if not existed\n",
        "        if not os.path.exists(img_directory):\n",
        "            os.makedirs(img_directory)\n",
        "\n",
        "        cv2.imwrite(os.path.join(outdir, str(ground_truths[k]), '%05d.png' % (k,)), image)\n",
        "\n",
        "    labels = [outdir + '/%05d.png %d' % (k, l) for k,l in enumerate(labels[8:])]\n",
        "    with open('%s.txt' % label_f, 'w') as f:\n",
        "        f.write(os.linesep.join(labels))"
      ],
      "execution_count": null,
      "outputs": []
    },
    {
      "cell_type": "code",
      "metadata": {
        "id": "U4o4eeCjqIgm",
        "colab_type": "code",
        "colab": {}
      },
      "source": [
        "ground_truths = labels[8:]\n",
        "print(len(ground_truths))\n",
        "print(len(images))"
      ],
      "execution_count": null,
      "outputs": []
    },
    {
      "cell_type": "code",
      "metadata": {
        "id": "wZ6_OoBDobGd",
        "colab_type": "code",
        "colab": {}
      },
      "source": [
        "ls -l"
      ],
      "execution_count": null,
      "outputs": []
    },
    {
      "cell_type": "code",
      "metadata": {
        "id": "kDDAsy2z3m9l",
        "colab_type": "code",
        "colab": {
          "base_uri": "https://localhost:8080/",
          "height": 1000
        },
        "outputId": "3a37fe7f-cf0a-4614-831a-628f9c50bd67"
      },
      "source": [
        "#Images/n02105855-Shetland_sheepdog/n02105855_9415.jpg\n",
        "\n",
        "import glob\n",
        "import os\n",
        "\n",
        "import numpy as np\n",
        "from matplotlib.image import imread\n",
        "%matplotlib inline\n",
        "import matplotlib.pyplot as plt\n",
        "\n",
        "# get image parts\n",
        "def get_image_parts(image_path):\n",
        "    \"\"\"Given a full path to an image, return its parts.\"\"\"\n",
        "    parts = image_path.split(os.path.sep)\n",
        "    #print(parts)\n",
        "    filename = parts[2]\n",
        "    filename_no_ext = filename.split('.')[0]\n",
        "    classname = parts[1]\n",
        "    train_or_test = parts[0]\n",
        "    \n",
        "    return train_or_test, classname, filename_no_ext, filename\n",
        "    \n",
        "    \n",
        "sample_images = list(glob.glob(os.path.join('train-images-idx3-ubyte_folder/', '*/*'), recursive=True))\n",
        "np.random.seed(42)\n",
        "rand_imgs = np.random.choice(sample_images, size=5*5)\n",
        "fig, axarr = plt.subplots(5, 5, figsize=(20, 20))\n",
        "\n",
        "for i, rand_img in enumerate(rand_imgs):\n",
        "    train_or_test, classname, filename_no_ext, filename = get_image_parts(rand_img)\n",
        "    \n",
        "    j = i // 5\n",
        "    k = i % 5\n",
        "    axarr[j][k].imshow(imread(rand_img))\n",
        "    axarr[j][k].title.set_text(classname)\n",
        "    axarr[j][k].grid(False)"
      ],
      "execution_count": null,
      "outputs": [
        {
          "output_type": "display_data",
          "data": {
            "image/png": "[encoded data removed]",
            "text/plain": [
              "<Figure size 1440x1440 with 25 Axes>"
            ]
          },
          "metadata": {
            "tags": []
          }
        }
      ]
    },
    {
      "cell_type": "code",
      "metadata": {
        "id": "0zpE42a80FLL",
        "colab_type": "code",
        "colab": {}
      },
      "source": [
        "%rm -r train-images-idx3-ubyte_folder/\n",
        "%rm -r t10k-images-idx3-ubyte_folder/"
      ],
      "execution_count": null,
      "outputs": []
    },
    {
      "cell_type": "code",
      "metadata": {
        "id": "WuJzyO5vwI1B",
        "colab_type": "code",
        "colab": {
          "base_uri": "https://localhost:8080/",
          "height": 45
        },
        "outputId": "882b9b71-701e-40e7-c4e1-d3bb7f7547a7"
      },
      "source": [
        "from IPython.display import Image \n",
        "Image(filename='52493.png')"
      ],
      "execution_count": null,
      "outputs": [
        {
          "output_type": "execute_result",
          "data": {
            "image/png": "[encoded data removed]",
            "text/plain": [
              "<IPython.core.display.Image object>"
            ]
          },
          "metadata": {
            "tags": []
          },
          "execution_count": 25
        }
      ]
    },
    {
      "cell_type": "code",
      "metadata": {
        "id": "ShPVY5u0s0NB",
        "colab_type": "code",
        "colab": {}
      },
      "source": [
        "cd train-images-idx3-ubyte_folder/"
      ],
      "execution_count": null,
      "outputs": []
    },
    {
      "cell_type": "code",
      "metadata": {
        "id": "l7tkMnqgyf1L",
        "colab_type": "code",
        "colab": {}
      },
      "source": [
        "import os\n",
        "import numpy as np\n",
        "import struct\n",
        "import scipy.io as sio\n",
        "import matplotlib.pyplot as plt\n",
        "\n",
        "\n",
        "def save_svhn():\n",
        "    dir_name = \"./svhn_dataset\"\n",
        "    if not os.path.isdir(dir_name):\n",
        "        os.mkdir(dir_name)\n",
        "    print \"Loading matlab data of SVHN\"\n",
        "    mat = sio.loadmat(\"train_32x32.mat\")\n",
        "    data = mat['X']\n",
        "    for i in range(data.shape[3]):\n",
        "        plt.figure()\n",
        "        if not os.path.isfile(os.path.join(dir_name, \"%05d.png\" % i)):\n",
        "            plt.imsave(os.path.join(dir_name, \"%05d.png\" % i), data[..., i])\n",
        "        plt.close()\n",
        "        # break\n",
        "    print \"Program done!\"\n",
        "\n",
        "\n",
        "def save_mnist():\n",
        "    print \"Saving images from MNIST\"\n",
        "    dir_name = \"./mnist_dataset\"\n",
        "    if not os.path.isdir(dir_name):\n",
        "        os.mkdir(dir_name)\n",
        "    with open(\"./train-images.idx3-ubyte\", \"rb\") as f:\n",
        "        buf = f.read()\n",
        "    img_idx = 0\n",
        "    img_idx += struct.calcsize(\">IIII\")\n",
        "    for i in range(60000):\n",
        "        temp = struct.unpack_from(\">784B\", buf, img_idx)\n",
        "        img = np.reshape(temp, (28, 28))\n",
        "        plt.figure()\n",
        "        plt.imsave(os.path.join(dir_name, \"%05d.png\" % i), img, cmap=\"gray\")\n",
        "        plt.close()\n",
        "        img_idx += struct.calcsize(\">784B\")\n",
        "    print \"Program done!\"\n",
        "\n",
        "\n",
        "def main():\n",
        "    # save_mnist()\n",
        "    save_svhn()\n",
        "\n",
        "\n",
        "if __name__ == '__main__':\n",
        "    main()"
      ],
      "execution_count": null,
      "outputs": []
    },
    {
      "cell_type": "code",
      "metadata": {
        "id": "1d_Br6NXzfzq",
        "colab_type": "code",
        "colab": {}
      },
      "source": [
        "ls -l"
      ],
      "execution_count": null,
      "outputs": []
    },
    {
      "cell_type": "code",
      "metadata": {
        "id": "ziKncR1Q1VXg",
        "colab_type": "code",
        "colab": {}
      },
      "source": [
        "mv svhn_dataset svhn_train"
      ],
      "execution_count": null,
      "outputs": []
    },
    {
      "cell_type": "code",
      "metadata": {
        "id": "X-7jWS6Pzk6h",
        "colab_type": "code",
        "colab": {}
      },
      "source": [
        "!wget http://ufldl.stanford.edu/housenumbers/test_32x32.mat"
      ],
      "execution_count": null,
      "outputs": []
    },
    {
      "cell_type": "code",
      "metadata": {
        "id": "LC8IhKxezp_A",
        "colab_type": "code",
        "colab": {}
      },
      "source": [
        "import os\n",
        "import numpy as np\n",
        "import struct\n",
        "import scipy.io as sio\n",
        "import matplotlib.pyplot as plt\n",
        "\n",
        "\n",
        "def save_svhn():\n",
        "    dir_name = \"./svhn_test\"\n",
        "    if not os.path.isdir(dir_name):\n",
        "        os.mkdir(dir_name)\n",
        "    print \"Loading matlab test data of SVHN\"\n",
        "    mat = sio.loadmat(\"test_32x32.mat\")\n",
        "    data = mat['X']\n",
        "    for i in range(data.shape[3]):\n",
        "        plt.figure()\n",
        "        if not os.path.isfile(os.path.join(dir_name, \"%05d.png\" % i)):\n",
        "            plt.imsave(os.path.join(dir_name, \"%05d.png\" % i), data[..., i])\n",
        "        plt.close()\n",
        "        # break\n",
        "    print \"Program done!\"\n",
        "\n",
        "def main():\n",
        "    # save_mnist()\n",
        "    save_svhn()\n",
        "\n",
        "\n",
        "if __name__ == '__main__':\n",
        "    main()"
      ],
      "execution_count": null,
      "outputs": []
    },
    {
      "cell_type": "code",
      "metadata": {
        "id": "LnWpgWtR1sF0",
        "colab_type": "code",
        "colab": {}
      },
      "source": [
        "from PIL import Image\n",
        "import numpy\n",
        "\n",
        "def convert_img_square(im_pth='', dest_path='', desired_size=224):\n",
        "#     print(im_pth)\n",
        "    \n",
        "    im = Image.open(im_pth)\n",
        "    old_size = im.size  # (width, height) format\n",
        "\n",
        "    ratio = float(desired_size)/max(old_size)\n",
        "    new_size = tuple([int(x*ratio) for x in old_size])\n",
        "\n",
        "#     new_im = im.resize(new_size, Image.ANTIALIAS)\n",
        "    new_im = im.resize(new_size)\n",
        "    \n",
        "    new_im = new_im.convert('RGB')\n",
        "    \n",
        "    new_im.save(dest_path)\n",
        "\n",
        "    return True\n",
        "    \n",
        "# path = 'train/0/twinjet_s_001442.png'\n",
        "# dest_path = 't1/test4.jpg'\n",
        "\n",
        "# orig_arr = convert_img_square(path, dest_path, 499)   \n",
        "\n",
        "# #convert to RGB and Save\n",
        "# # orig_arr = orig_arr.convert('RGB')\n",
        "# # orig_arr.save('t1/test2.jpg')\n",
        "\n",
        "# from IPython.display import Image \n",
        "# Image(filename='t1/test4.jpg')"
      ],
      "execution_count": null,
      "outputs": []
    },
    {
      "cell_type": "code",
      "metadata": {
        "id": "igXkdJTE1v5-",
        "colab_type": "code",
        "colab": {}
      },
      "source": [
        "path = 'svhn_train/73256.png'\n",
        "dest_path = 'test4.jpg'\n",
        "\n",
        "orig_arr = convert_img_square(path, dest_path, 499)   \n",
        "\n",
        "from IPython.display import Image \n",
        "Image(filename='test4.jpg')"
      ],
      "execution_count": null,
      "outputs": []
    },
    {
      "cell_type": "code",
      "metadata": {
        "id": "MtF1nCmV1zw9",
        "colab_type": "code",
        "colab": {
          "base_uri": "https://localhost:8080/",
          "height": 394
        },
        "outputId": "edc9d1de-a4e4-405d-8cc1-b9314d144bba"
      },
      "source": [
        "####=======================\n",
        "import glob\n",
        "import os\n",
        "import shutil\n",
        "import random\n",
        "\n",
        "#move class folder from classname_# to classname/#\n",
        "\n",
        "def get_image_parts(image_path):\n",
        "    \"\"\"Given a full path to an image, return its parts.\"\"\"\n",
        "    parts = image_path.split(os.path.sep)\n",
        "    #print(parts)\n",
        "    filename = parts[2]\n",
        "    filename_no_ext = filename.split('.')[0]\n",
        "    classname = parts[1]\n",
        "    train_or_test = parts[0]\n",
        "    \n",
        "    return train_or_test, classname, filename_no_ext, filename\n",
        "\n",
        "move_folders = ['train-images-idx3-ubyte_folder']\n",
        "dest_folder = 'fashion_mnist_train_resized_299'\n",
        "data_file = []\n",
        "\n",
        "# look for all images in sub-folders\n",
        "for folder in move_folders:\n",
        "    class_folders = glob.glob(os.path.join(folder, '*'))\n",
        "    print('folder %s' %class_folders)\n",
        "    \n",
        "#     for sub_folder in class_folders:\n",
        "#         sub_class_folders = glob.glob(os.path.join(sub_folder, '*'))    \n",
        "#         print('sub folder %s' %sub_class_folders)\n",
        "        \n",
        "    for iid_class in class_folders:\n",
        "        print(iid_class)\n",
        "        \n",
        "        class_files = glob.glob(os.path.join(iid_class, '*.png'))\n",
        "        \n",
        "#         #Determize Set# (No Suffle)\n",
        "        set = len(class_files)\n",
        "        inner = range(0*set, 1*set) #all\n",
        "\n",
        "        print('moving %d files' %(len(inner)))\n",
        "\n",
        "#         random_list = random.sample(range(len(class_files)), int(len(class_files)/5)) #1/5 dataset\n",
        "#         for idx in range(len(random_list)):\n",
        "\n",
        "        for idx in range(len(inner)):\n",
        "            src = class_files[inner[idx]]\n",
        "\n",
        "            train_or_test, classname, filename_no_ext, filename = get_image_parts(src)\n",
        "            dst = os.path.join(dest_folder, classname, filename)\n",
        "\n",
        "            # image directory\n",
        "            img_directory = os.path.join(dest_folder, classname)\n",
        "\n",
        "            # create folder if not existed\n",
        "            if not os.path.exists(img_directory):\n",
        "                os.makedirs(img_directory)\n",
        "                \n",
        "            # convert image\n",
        "            convert_img_square(src, dst, 299)\n",
        "#             #moving file\n",
        "#             shutil.move(src, dst)\n",
        "# #                 shutil.copy(src, dst)\n"
      ],
      "execution_count": null,
      "outputs": [
        {
          "output_type": "stream",
          "text": [
            "folder ['train-images-idx3-ubyte_folder/2', 'train-images-idx3-ubyte_folder/7', 'train-images-idx3-ubyte_folder/3', 'train-images-idx3-ubyte_folder/9', 'train-images-idx3-ubyte_folder/5', 'train-images-idx3-ubyte_folder/4', 'train-images-idx3-ubyte_folder/0', 'train-images-idx3-ubyte_folder/8', 'train-images-idx3-ubyte_folder/6', 'train-images-idx3-ubyte_folder/1']\n",
            "train-images-idx3-ubyte_folder/2\n",
            "moving 6000 files\n",
            "train-images-idx3-ubyte_folder/7\n",
            "moving 6000 files\n",
            "train-images-idx3-ubyte_folder/3\n",
            "moving 6000 files\n",
            "train-images-idx3-ubyte_folder/9\n",
            "moving 6000 files\n",
            "train-images-idx3-ubyte_folder/5\n",
            "moving 6000 files\n",
            "train-images-idx3-ubyte_folder/4\n",
            "moving 6000 files\n",
            "train-images-idx3-ubyte_folder/0\n",
            "moving 6000 files\n",
            "train-images-idx3-ubyte_folder/8\n",
            "moving 6000 files\n",
            "train-images-idx3-ubyte_folder/6\n",
            "moving 6000 files\n",
            "train-images-idx3-ubyte_folder/1\n",
            "moving 6000 files\n"
          ],
          "name": "stdout"
        }
      ]
    },
    {
      "cell_type": "code",
      "metadata": {
        "id": "oZXHkfb45_Is",
        "colab_type": "code",
        "colab": {}
      },
      "source": [
        "ls -l"
      ],
      "execution_count": null,
      "outputs": []
    },
    {
      "cell_type": "code",
      "metadata": {
        "id": "wCI0358H14H8",
        "colab_type": "code",
        "colab": {
          "base_uri": "https://localhost:8080/",
          "height": 394
        },
        "outputId": "a0c7827f-2d9e-448a-a6db-af73cbc81de4"
      },
      "source": [
        "####=======================\n",
        "import glob\n",
        "import os\n",
        "import shutil\n",
        "import random\n",
        "\n",
        "#move class folder from classname_# to classname/#\n",
        "\n",
        "def get_image_parts(image_path):\n",
        "    \"\"\"Given a full path to an image, return its parts.\"\"\"\n",
        "    parts = image_path.split(os.path.sep)\n",
        "    #print(parts)\n",
        "    filename = parts[2]\n",
        "    filename_no_ext = filename.split('.')[0]\n",
        "    classname = parts[1]\n",
        "    train_or_test = parts[0]\n",
        "    \n",
        "    return train_or_test, classname, filename_no_ext, filename\n",
        "\n",
        "move_folders = ['t10k-images-idx3-ubyte_folder']\n",
        "dest_folder = 'fashion_mnist_test_resized_299'\n",
        "data_file = []\n",
        "\n",
        "# look for all images in sub-folders\n",
        "for folder in move_folders:\n",
        "    class_folders = glob.glob(os.path.join(folder, '*'))\n",
        "    print('folder %s' %class_folders)\n",
        "    \n",
        "#     for sub_folder in class_folders:\n",
        "#         sub_class_folders = glob.glob(os.path.join(sub_folder, '*'))    \n",
        "#         print('sub folder %s' %sub_class_folders)\n",
        "        \n",
        "    for iid_class in class_folders:\n",
        "        print(iid_class)\n",
        "        \n",
        "        class_files = glob.glob(os.path.join(iid_class, '*.png'))\n",
        "        \n",
        "#         #Determize Set# (No Suffle)\n",
        "        set = len(class_files)\n",
        "        inner = range(0*set, 1*set) #all\n",
        "\n",
        "        print('moving %d files' %(len(inner)))\n",
        "\n",
        "#         random_list = random.sample(range(len(class_files)), int(len(class_files)/5)) #1/5 dataset\n",
        "#         for idx in range(len(random_list)):\n",
        "\n",
        "        for idx in range(len(inner)):\n",
        "            src = class_files[inner[idx]]\n",
        "\n",
        "            train_or_test, classname, filename_no_ext, filename = get_image_parts(src)\n",
        "            dst = os.path.join(dest_folder, classname, filename)\n",
        "\n",
        "            # image directory\n",
        "            img_directory = os.path.join(dest_folder, classname)\n",
        "\n",
        "            # create folder if not existed\n",
        "            if not os.path.exists(img_directory):\n",
        "                os.makedirs(img_directory)\n",
        "                \n",
        "            # convert image\n",
        "            convert_img_square(src, dst, 299)\n",
        "#             #moving file\n",
        "#             shutil.move(src, dst)\n",
        "# #                 shutil.copy(src, dst)\n"
      ],
      "execution_count": null,
      "outputs": [
        {
          "output_type": "stream",
          "text": [
            "folder ['t10k-images-idx3-ubyte_folder/2', 't10k-images-idx3-ubyte_folder/7', 't10k-images-idx3-ubyte_folder/3', 't10k-images-idx3-ubyte_folder/9', 't10k-images-idx3-ubyte_folder/5', 't10k-images-idx3-ubyte_folder/4', 't10k-images-idx3-ubyte_folder/0', 't10k-images-idx3-ubyte_folder/8', 't10k-images-idx3-ubyte_folder/6', 't10k-images-idx3-ubyte_folder/1']\n",
            "t10k-images-idx3-ubyte_folder/2\n",
            "moving 1000 files\n",
            "t10k-images-idx3-ubyte_folder/7\n",
            "moving 1000 files\n",
            "t10k-images-idx3-ubyte_folder/3\n",
            "moving 1000 files\n",
            "t10k-images-idx3-ubyte_folder/9\n",
            "moving 1000 files\n",
            "t10k-images-idx3-ubyte_folder/5\n",
            "moving 1000 files\n",
            "t10k-images-idx3-ubyte_folder/4\n",
            "moving 1000 files\n",
            "t10k-images-idx3-ubyte_folder/0\n",
            "moving 1000 files\n",
            "t10k-images-idx3-ubyte_folder/8\n",
            "moving 1000 files\n",
            "t10k-images-idx3-ubyte_folder/6\n",
            "moving 1000 files\n",
            "t10k-images-idx3-ubyte_folder/1\n",
            "moving 1000 files\n"
          ],
          "name": "stdout"
        }
      ]
    },
    {
      "cell_type": "code",
      "metadata": {
        "id": "5OIGsYWB9WgL",
        "colab_type": "code",
        "colab": {}
      },
      "source": [
        "rm -r svhn_test/"
      ],
      "execution_count": null,
      "outputs": []
    },
    {
      "cell_type": "code",
      "metadata": {
        "id": "gpN67dZ76EfW",
        "colab_type": "code",
        "colab": {}
      },
      "source": [
        ""
      ],
      "execution_count": null,
      "outputs": []
    },
    {
      "cell_type": "code",
      "metadata": {
        "id": "hPB1Rz3a_SUw",
        "colab_type": "code",
        "colab": {}
      },
      "source": [
        ""
      ],
      "execution_count": null,
      "outputs": []
    },
    {
      "cell_type": "code",
      "metadata": {
        "id": "pWIq2AAg-Rjh",
        "colab_type": "code",
        "colab": {}
      },
      "source": [
        ""
      ],
      "execution_count": null,
      "outputs": []
    },
    {
      "cell_type": "code",
      "metadata": {
        "id": "u2MwT1Dh-WUG",
        "colab_type": "code",
        "colab": {}
      },
      "source": [
        ""
      ],
      "execution_count": null,
      "outputs": []
    },
    {
      "cell_type": "code",
      "metadata": {
        "id": "gv37mrDqCL8h",
        "colab_type": "code",
        "colab": {
          "base_uri": "https://localhost:8080/",
          "height": 528
        },
        "outputId": "f3341228-7e4b-4b85-8434-8a174562f786"
      },
      "source": [
        "from google.colab import drive\n",
        "drive.mount('/content/gdrive', force_remount=True)"
      ],
      "execution_count": null,
      "outputs": [
        {
          "output_type": "error",
          "ename": "KeyboardInterrupt",
          "evalue": "ignored",
          "traceback": [
            "\u001b[0;31m---------------------------------------------------------------------------\u001b[0m",
            "\u001b[0;31mKeyboardInterrupt\u001b[0m                         Traceback (most recent call last)",
            "\u001b[0;32m/usr/local/lib/python3.6/dist-packages/ipykernel/kernelbase.py\u001b[0m in \u001b[0;36m_input_request\u001b[0;34m(self, prompt, ident, parent, password)\u001b[0m\n\u001b[1;32m    729\u001b[0m             \u001b[0;32mtry\u001b[0m\u001b[0;34m:\u001b[0m\u001b[0;34m\u001b[0m\u001b[0;34m\u001b[0m\u001b[0m\n\u001b[0;32m--> 730\u001b[0;31m                 \u001b[0mident\u001b[0m\u001b[0;34m,\u001b[0m \u001b[0mreply\u001b[0m \u001b[0;34m=\u001b[0m \u001b[0mself\u001b[0m\u001b[0;34m.\u001b[0m\u001b[0msession\u001b[0m\u001b[0;34m.\u001b[0m\u001b[0mrecv\u001b[0m\u001b[0;34m(\u001b[0m\u001b[0mself\u001b[0m\u001b[0;34m.\u001b[0m\u001b[0mstdin_socket\u001b[0m\u001b[0;34m,\u001b[0m \u001b[0;36m0\u001b[0m\u001b[0;34m)\u001b[0m\u001b[0;34m\u001b[0m\u001b[0;34m\u001b[0m\u001b[0m\n\u001b[0m\u001b[1;32m    731\u001b[0m             \u001b[0;32mexcept\u001b[0m \u001b[0mException\u001b[0m\u001b[0;34m:\u001b[0m\u001b[0;34m\u001b[0m\u001b[0;34m\u001b[0m\u001b[0m\n",
            "\u001b[0;32m/usr/local/lib/python3.6/dist-packages/jupyter_client/session.py\u001b[0m in \u001b[0;36mrecv\u001b[0;34m(self, socket, mode, content, copy)\u001b[0m\n\u001b[1;32m    802\u001b[0m         \u001b[0;32mtry\u001b[0m\u001b[0;34m:\u001b[0m\u001b[0;34m\u001b[0m\u001b[0;34m\u001b[0m\u001b[0m\n\u001b[0;32m--> 803\u001b[0;31m             \u001b[0mmsg_list\u001b[0m \u001b[0;34m=\u001b[0m \u001b[0msocket\u001b[0m\u001b[0;34m.\u001b[0m\u001b[0mrecv_multipart\u001b[0m\u001b[0;34m(\u001b[0m\u001b[0mmode\u001b[0m\u001b[0;34m,\u001b[0m \u001b[0mcopy\u001b[0m\u001b[0;34m=\u001b[0m\u001b[0mcopy\u001b[0m\u001b[0;34m)\u001b[0m\u001b[0;34m\u001b[0m\u001b[0;34m\u001b[0m\u001b[0m\n\u001b[0m\u001b[1;32m    804\u001b[0m         \u001b[0;32mexcept\u001b[0m \u001b[0mzmq\u001b[0m\u001b[0;34m.\u001b[0m\u001b[0mZMQError\u001b[0m \u001b[0;32mas\u001b[0m \u001b[0me\u001b[0m\u001b[0;34m:\u001b[0m\u001b[0;34m\u001b[0m\u001b[0;34m\u001b[0m\u001b[0m\n",
            "\u001b[0;32m/usr/local/lib/python3.6/dist-packages/zmq/sugar/socket.py\u001b[0m in \u001b[0;36mrecv_multipart\u001b[0;34m(self, flags, copy, track)\u001b[0m\n\u001b[1;32m    465\u001b[0m         \"\"\"\n\u001b[0;32m--> 466\u001b[0;31m         \u001b[0mparts\u001b[0m \u001b[0;34m=\u001b[0m \u001b[0;34m[\u001b[0m\u001b[0mself\u001b[0m\u001b[0;34m.\u001b[0m\u001b[0mrecv\u001b[0m\u001b[0;34m(\u001b[0m\u001b[0mflags\u001b[0m\u001b[0;34m,\u001b[0m \u001b[0mcopy\u001b[0m\u001b[0;34m=\u001b[0m\u001b[0mcopy\u001b[0m\u001b[0;34m,\u001b[0m \u001b[0mtrack\u001b[0m\u001b[0;34m=\u001b[0m\u001b[0mtrack\u001b[0m\u001b[0;34m)\u001b[0m\u001b[0;34m]\u001b[0m\u001b[0;34m\u001b[0m\u001b[0;34m\u001b[0m\u001b[0m\n\u001b[0m\u001b[1;32m    467\u001b[0m         \u001b[0;31m# have first part already, only loop while more to receive\u001b[0m\u001b[0;34m\u001b[0m\u001b[0;34m\u001b[0m\u001b[0;34m\u001b[0m\u001b[0m\n",
            "\u001b[0;32mzmq/backend/cython/socket.pyx\u001b[0m in \u001b[0;36mzmq.backend.cython.socket.Socket.recv\u001b[0;34m()\u001b[0m\n",
            "\u001b[0;32mzmq/backend/cython/socket.pyx\u001b[0m in \u001b[0;36mzmq.backend.cython.socket.Socket.recv\u001b[0;34m()\u001b[0m\n",
            "\u001b[0;32mzmq/backend/cython/socket.pyx\u001b[0m in \u001b[0;36mzmq.backend.cython.socket._recv_copy\u001b[0;34m()\u001b[0m\n",
            "\u001b[0;32m/usr/local/lib/python3.6/dist-packages/zmq/backend/cython/checkrc.pxd\u001b[0m in \u001b[0;36mzmq.backend.cython.checkrc._check_rc\u001b[0;34m()\u001b[0m\n",
            "\u001b[0;31mKeyboardInterrupt\u001b[0m: ",
            "\nDuring handling of the above exception, another exception occurred:\n",
            "\u001b[0;31mKeyboardInterrupt\u001b[0m                         Traceback (most recent call last)",
            "\u001b[0;32m<ipython-input-1-80bea5481fc3>\u001b[0m in \u001b[0;36m<module>\u001b[0;34m()\u001b[0m\n\u001b[1;32m      1\u001b[0m \u001b[0;32mfrom\u001b[0m \u001b[0mgoogle\u001b[0m\u001b[0;34m.\u001b[0m\u001b[0mcolab\u001b[0m \u001b[0;32mimport\u001b[0m \u001b[0mdrive\u001b[0m\u001b[0;34m\u001b[0m\u001b[0;34m\u001b[0m\u001b[0m\n\u001b[0;32m----> 2\u001b[0;31m \u001b[0mdrive\u001b[0m\u001b[0;34m.\u001b[0m\u001b[0mmount\u001b[0m\u001b[0;34m(\u001b[0m\u001b[0;34m'/content/gdrive'\u001b[0m\u001b[0;34m,\u001b[0m \u001b[0mforce_remount\u001b[0m\u001b[0;34m=\u001b[0m\u001b[0;32mTrue\u001b[0m\u001b[0;34m)\u001b[0m\u001b[0;34m\u001b[0m\u001b[0;34m\u001b[0m\u001b[0m\n\u001b[0m",
            "\u001b[0;32m/usr/local/lib/python3.6/dist-packages/google/colab/drive.py\u001b[0m in \u001b[0;36mmount\u001b[0;34m(mountpoint, force_remount, timeout_ms)\u001b[0m\n\u001b[1;32m    223\u001b[0m       \u001b[0mauth_prompt\u001b[0m \u001b[0;34m=\u001b[0m \u001b[0md\u001b[0m\u001b[0;34m.\u001b[0m\u001b[0mmatch\u001b[0m\u001b[0;34m.\u001b[0m\u001b[0mgroup\u001b[0m\u001b[0;34m(\u001b[0m\u001b[0;36m1\u001b[0m\u001b[0;34m)\u001b[0m \u001b[0;34m+\u001b[0m \u001b[0;34m'\\nEnter your authorization code:\\n'\u001b[0m\u001b[0;34m\u001b[0m\u001b[0;34m\u001b[0m\u001b[0m\n\u001b[1;32m    224\u001b[0m       \u001b[0;32mwith\u001b[0m \u001b[0mopen\u001b[0m\u001b[0;34m(\u001b[0m\u001b[0mfifo\u001b[0m\u001b[0;34m,\u001b[0m \u001b[0;34m'w'\u001b[0m\u001b[0;34m)\u001b[0m \u001b[0;32mas\u001b[0m \u001b[0mfifo_file\u001b[0m\u001b[0;34m:\u001b[0m\u001b[0;34m\u001b[0m\u001b[0;34m\u001b[0m\u001b[0m\n\u001b[0;32m--> 225\u001b[0;31m         \u001b[0mfifo_file\u001b[0m\u001b[0;34m.\u001b[0m\u001b[0mwrite\u001b[0m\u001b[0;34m(\u001b[0m\u001b[0m_getpass\u001b[0m\u001b[0;34m.\u001b[0m\u001b[0mgetpass\u001b[0m\u001b[0;34m(\u001b[0m\u001b[0mauth_prompt\u001b[0m\u001b[0;34m)\u001b[0m \u001b[0;34m+\u001b[0m \u001b[0;34m'\\n'\u001b[0m\u001b[0;34m)\u001b[0m\u001b[0;34m\u001b[0m\u001b[0;34m\u001b[0m\u001b[0m\n\u001b[0m\u001b[1;32m    226\u001b[0m       \u001b[0mwrote_to_fifo\u001b[0m \u001b[0;34m=\u001b[0m \u001b[0;32mTrue\u001b[0m\u001b[0;34m\u001b[0m\u001b[0;34m\u001b[0m\u001b[0m\n\u001b[1;32m    227\u001b[0m   \u001b[0;32mif\u001b[0m \u001b[0;32mnot\u001b[0m \u001b[0mwrote_to_fifo\u001b[0m\u001b[0;34m:\u001b[0m\u001b[0;34m\u001b[0m\u001b[0;34m\u001b[0m\u001b[0m\n",
            "\u001b[0;32m/usr/local/lib/python3.6/dist-packages/ipykernel/kernelbase.py\u001b[0m in \u001b[0;36mgetpass\u001b[0;34m(self, prompt, stream)\u001b[0m\n\u001b[1;32m    686\u001b[0m             \u001b[0mself\u001b[0m\u001b[0;34m.\u001b[0m\u001b[0m_parent_ident\u001b[0m\u001b[0;34m,\u001b[0m\u001b[0;34m\u001b[0m\u001b[0;34m\u001b[0m\u001b[0m\n\u001b[1;32m    687\u001b[0m             \u001b[0mself\u001b[0m\u001b[0;34m.\u001b[0m\u001b[0m_parent_header\u001b[0m\u001b[0;34m,\u001b[0m\u001b[0;34m\u001b[0m\u001b[0;34m\u001b[0m\u001b[0m\n\u001b[0;32m--> 688\u001b[0;31m             \u001b[0mpassword\u001b[0m\u001b[0;34m=\u001b[0m\u001b[0;32mTrue\u001b[0m\u001b[0;34m,\u001b[0m\u001b[0;34m\u001b[0m\u001b[0;34m\u001b[0m\u001b[0m\n\u001b[0m\u001b[1;32m    689\u001b[0m         )\n\u001b[1;32m    690\u001b[0m \u001b[0;34m\u001b[0m\u001b[0m\n",
            "\u001b[0;32m/usr/local/lib/python3.6/dist-packages/ipykernel/kernelbase.py\u001b[0m in \u001b[0;36m_input_request\u001b[0;34m(self, prompt, ident, parent, password)\u001b[0m\n\u001b[1;32m    733\u001b[0m             \u001b[0;32mexcept\u001b[0m \u001b[0mKeyboardInterrupt\u001b[0m\u001b[0;34m:\u001b[0m\u001b[0;34m\u001b[0m\u001b[0;34m\u001b[0m\u001b[0m\n\u001b[1;32m    734\u001b[0m                 \u001b[0;31m# re-raise KeyboardInterrupt, to truncate traceback\u001b[0m\u001b[0;34m\u001b[0m\u001b[0;34m\u001b[0m\u001b[0;34m\u001b[0m\u001b[0m\n\u001b[0;32m--> 735\u001b[0;31m                 \u001b[0;32mraise\u001b[0m \u001b[0mKeyboardInterrupt\u001b[0m\u001b[0;34m\u001b[0m\u001b[0;34m\u001b[0m\u001b[0m\n\u001b[0m\u001b[1;32m    736\u001b[0m             \u001b[0;32melse\u001b[0m\u001b[0;34m:\u001b[0m\u001b[0;34m\u001b[0m\u001b[0;34m\u001b[0m\u001b[0m\n\u001b[1;32m    737\u001b[0m                 \u001b[0;32mbreak\u001b[0m\u001b[0;34m\u001b[0m\u001b[0;34m\u001b[0m\u001b[0m\n",
            "\u001b[0;31mKeyboardInterrupt\u001b[0m: "
          ]
        }
      ]
    },
    {
      "cell_type": "code",
      "metadata": {
        "id": "Sg09eH64C-kO",
        "colab_type": "code",
        "colab": {}
      },
      "source": [
        "ls -l"
      ],
      "execution_count": null,
      "outputs": []
    },
    {
      "cell_type": "code",
      "metadata": {
        "id": "pIlCeOsECoDf",
        "colab_type": "code",
        "colab": {}
      },
      "source": [
        "# !zip -r fashion_mnist_train_resized_299.zip fashion_mnist_train_resized_299\n",
        "# !zip -r fashion_mnist_test_resized_299.zip fashion_mnist_test_resized_299"
      ],
      "execution_count": null,
      "outputs": []
    },
    {
      "cell_type": "code",
      "metadata": {
        "id": "n_0aMFCoCrnD",
        "colab_type": "code",
        "colab": {}
      },
      "source": [
        "# %cp fashion_mnist_train_resized_299.zip gdrive/My\\ Drive/fashion_mnist_train_resized_299.zip\n",
        "# %cp fashion_mnist_test_resized_299.zip gdrive/My\\ Drive/fashion_mnist_test_resized_299.zip "
      ],
      "execution_count": null,
      "outputs": []
    },
    {
      "cell_type": "code",
      "metadata": {
        "id": "PHHACMPOAIBi",
        "colab_type": "code",
        "colab": {}
      },
      "source": [
        ""
      ],
      "execution_count": null,
      "outputs": []
    },
    {
      "cell_type": "code",
      "metadata": {
        "id": "ofygXZGuaSaK",
        "colab_type": "code",
        "colab": {}
      },
      "source": [
        "%cp gdrive/My\\ Drive/fashion_mnist_train_resized_299.zip fashion_mnist_train_resized_299.zip\n",
        "%cp gdrive/My\\ Drive/fashion_mnist_test_resized_299.zip fashion_mnist_test_resized_299.zip "
      ],
      "execution_count": null,
      "outputs": []
    },
    {
      "cell_type": "code",
      "metadata": {
        "id": "KZiUEWO3acvU",
        "colab_type": "code",
        "colab": {}
      },
      "source": [
        "!unzip fashion_mnist_train_resized_299.zip\n",
        "!unzip fashion_mnist_test_resized_299.zip"
      ],
      "execution_count": null,
      "outputs": []
    },
    {
      "cell_type": "code",
      "metadata": {
        "id": "Ei1DB_skEvHA",
        "colab_type": "code",
        "colab": {
          "base_uri": "https://localhost:8080/",
          "height": 1000
        },
        "outputId": "eaa6326a-9544-4d58-c1eb-17cbe25d1299"
      },
      "source": [
        "#MUL 1 - Inception - ST\n",
        "\n",
        "# from keras.applications import InceptionV3\n",
        "# from keras.applications import Xception\n",
        "# from keras.applications.inception_resnet_v2 import InceptionResNetV2\n",
        "from keras.applications import MobileNet\n",
        "\n",
        "from keras.models import Model\n",
        "# from keras.layers import concatenate\n",
        "from keras.layers import Dense, GlobalAveragePooling2D, Input, Embedding, LSTM, Reshape, SimpleRNN, Concatenate,Bidirectional\n",
        "from keras.applications.mobilenet import preprocess_input\n",
        "\n",
        "from keras.layers import GaussianNoise\n",
        "\n",
        "# f1_base = Xception(weights='imagenet', include_top=False, input_shape=(450,450,3))\n",
        "# f1_base = InceptionV3(weights='imagenet', include_top=False, input_shape=(299,299,3))\n",
        "f1_base = MobileNet(weights='imagenet', include_top=False, input_shape=(299,299,3))\n",
        "f1_x = f1_base.output\n",
        "f1_x = GlobalAveragePooling2D()(f1_x)\n",
        "\n",
        "f1_x = Reshape([1,1024])(f1_x)  \n",
        "f1_x = SimpleRNN(2048, \n",
        "            return_sequences=False,                       \n",
        "#             dropout=0.8                                     \n",
        "            input_shape=[1,1024])(f1_x)\n",
        "\n",
        "\n",
        "#Regularization with noise\n",
        "f1_x = GaussianNoise(0.1)(f1_x)\n",
        "\n",
        "f1_x = Dense(1024, activation='relu')(f1_x)\n",
        "f1_x = Dense(10, activation='softmax')(f1_x)\n",
        "model_1 = Model(inputs=[f1_base.input],outputs=[f1_x])\n",
        "\n",
        "print(model_1.summary())"
      ],
      "execution_count": null,
      "outputs": [
        {
          "output_type": "stream",
          "text": [
            "/usr/local/lib/python3.6/dist-packages/keras_applications/mobilenet.py:207: UserWarning: `input_shape` is undefined or non-square, or `rows` is not in [128, 160, 192, 224]. Weights for input shape (224, 224) will be loaded as the default.\n",
            "  warnings.warn('`input_shape` is undefined or non-square, '\n"
          ],
          "name": "stderr"
        },
        {
          "output_type": "stream",
          "text": [
            "WARNING:tensorflow:From /usr/local/lib/python3.6/dist-packages/keras/backend/tensorflow_backend.py:4409: The name tf.random_normal is deprecated. Please use tf.random.normal instead.\n",
            "\n",
            "Model: \"model_1\"\n",
            "_________________________________________________________________\n",
            "Layer (type)                 Output Shape              Param #   \n",
            "=================================================================\n",
            "input_5 (InputLayer)         (None, 299, 299, 3)       0         \n",
            "_________________________________________________________________\n",
            "conv1_pad (ZeroPadding2D)    (None, 300, 300, 3)       0         \n",
            "_________________________________________________________________\n",
            "conv1 (Conv2D)               (None, 149, 149, 32)      864       \n",
            "_________________________________________________________________\n",
            "conv1_bn (BatchNormalization (None, 149, 149, 32)      128       \n",
            "_________________________________________________________________\n",
            "conv1_relu (ReLU)            (None, 149, 149, 32)      0         \n",
            "_________________________________________________________________\n",
            "conv_dw_1 (DepthwiseConv2D)  (None, 149, 149, 32)      288       \n",
            "_________________________________________________________________\n",
            "conv_dw_1_bn (BatchNormaliza (None, 149, 149, 32)      128       \n",
            "_________________________________________________________________\n",
            "conv_dw_1_relu (ReLU)        (None, 149, 149, 32)      0         \n",
            "_________________________________________________________________\n",
            "conv_pw_1 (Conv2D)           (None, 149, 149, 64)      2048      \n",
            "_________________________________________________________________\n",
            "conv_pw_1_bn (BatchNormaliza (None, 149, 149, 64)      256       \n",
            "_________________________________________________________________\n",
            "conv_pw_1_relu (ReLU)        (None, 149, 149, 64)      0         \n",
            "_________________________________________________________________\n",
            "conv_pad_2 (ZeroPadding2D)   (None, 150, 150, 64)      0         \n",
            "_________________________________________________________________\n",
            "conv_dw_2 (DepthwiseConv2D)  (None, 74, 74, 64)        576       \n",
            "_________________________________________________________________\n",
            "conv_dw_2_bn (BatchNormaliza (None, 74, 74, 64)        256       \n",
            "_________________________________________________________________\n",
            "conv_dw_2_relu (ReLU)        (None, 74, 74, 64)        0         \n",
            "_________________________________________________________________\n",
            "conv_pw_2 (Conv2D)           (None, 74, 74, 128)       8192      \n",
            "_________________________________________________________________\n",
            "conv_pw_2_bn (BatchNormaliza (None, 74, 74, 128)       512       \n",
            "_________________________________________________________________\n",
            "conv_pw_2_relu (ReLU)        (None, 74, 74, 128)       0         \n",
            "_________________________________________________________________\n",
            "conv_dw_3 (DepthwiseConv2D)  (None, 74, 74, 128)       1152      \n",
            "_________________________________________________________________\n",
            "conv_dw_3_bn (BatchNormaliza (None, 74, 74, 128)       512       \n",
            "_________________________________________________________________\n",
            "conv_dw_3_relu (ReLU)        (None, 74, 74, 128)       0         \n",
            "_________________________________________________________________\n",
            "conv_pw_3 (Conv2D)           (None, 74, 74, 128)       16384     \n",
            "_________________________________________________________________\n",
            "conv_pw_3_bn (BatchNormaliza (None, 74, 74, 128)       512       \n",
            "_________________________________________________________________\n",
            "conv_pw_3_relu (ReLU)        (None, 74, 74, 128)       0         \n",
            "_________________________________________________________________\n",
            "conv_pad_4 (ZeroPadding2D)   (None, 75, 75, 128)       0         \n",
            "_________________________________________________________________\n",
            "conv_dw_4 (DepthwiseConv2D)  (None, 37, 37, 128)       1152      \n",
            "_________________________________________________________________\n",
            "conv_dw_4_bn (BatchNormaliza (None, 37, 37, 128)       512       \n",
            "_________________________________________________________________\n",
            "conv_dw_4_relu (ReLU)        (None, 37, 37, 128)       0         \n",
            "_________________________________________________________________\n",
            "conv_pw_4 (Conv2D)           (None, 37, 37, 256)       32768     \n",
            "_________________________________________________________________\n",
            "conv_pw_4_bn (BatchNormaliza (None, 37, 37, 256)       1024      \n",
            "_________________________________________________________________\n",
            "conv_pw_4_relu (ReLU)        (None, 37, 37, 256)       0         \n",
            "_________________________________________________________________\n",
            "conv_dw_5 (DepthwiseConv2D)  (None, 37, 37, 256)       2304      \n",
            "_________________________________________________________________\n",
            "conv_dw_5_bn (BatchNormaliza (None, 37, 37, 256)       1024      \n",
            "_________________________________________________________________\n",
            "conv_dw_5_relu (ReLU)        (None, 37, 37, 256)       0         \n",
            "_________________________________________________________________\n",
            "conv_pw_5 (Conv2D)           (None, 37, 37, 256)       65536     \n",
            "_________________________________________________________________\n",
            "conv_pw_5_bn (BatchNormaliza (None, 37, 37, 256)       1024      \n",
            "_________________________________________________________________\n",
            "conv_pw_5_relu (ReLU)        (None, 37, 37, 256)       0         \n",
            "_________________________________________________________________\n",
            "conv_pad_6 (ZeroPadding2D)   (None, 38, 38, 256)       0         \n",
            "_________________________________________________________________\n",
            "conv_dw_6 (DepthwiseConv2D)  (None, 18, 18, 256)       2304      \n",
            "_________________________________________________________________\n",
            "conv_dw_6_bn (BatchNormaliza (None, 18, 18, 256)       1024      \n",
            "_________________________________________________________________\n",
            "conv_dw_6_relu (ReLU)        (None, 18, 18, 256)       0         \n",
            "_________________________________________________________________\n",
            "conv_pw_6 (Conv2D)           (None, 18, 18, 512)       131072    \n",
            "_________________________________________________________________\n",
            "conv_pw_6_bn (BatchNormaliza (None, 18, 18, 512)       2048      \n",
            "_________________________________________________________________\n",
            "conv_pw_6_relu (ReLU)        (None, 18, 18, 512)       0         \n",
            "_________________________________________________________________\n",
            "conv_dw_7 (DepthwiseConv2D)  (None, 18, 18, 512)       4608      \n",
            "_________________________________________________________________\n",
            "conv_dw_7_bn (BatchNormaliza (None, 18, 18, 512)       2048      \n",
            "_________________________________________________________________\n",
            "conv_dw_7_relu (ReLU)        (None, 18, 18, 512)       0         \n",
            "_________________________________________________________________\n",
            "conv_pw_7 (Conv2D)           (None, 18, 18, 512)       262144    \n",
            "_________________________________________________________________\n",
            "conv_pw_7_bn (BatchNormaliza (None, 18, 18, 512)       2048      \n",
            "_________________________________________________________________\n",
            "conv_pw_7_relu (ReLU)        (None, 18, 18, 512)       0         \n",
            "_________________________________________________________________\n",
            "conv_dw_8 (DepthwiseConv2D)  (None, 18, 18, 512)       4608      \n",
            "_________________________________________________________________\n",
            "conv_dw_8_bn (BatchNormaliza (None, 18, 18, 512)       2048      \n",
            "_________________________________________________________________\n",
            "conv_dw_8_relu (ReLU)        (None, 18, 18, 512)       0         \n",
            "_________________________________________________________________\n",
            "conv_pw_8 (Conv2D)           (None, 18, 18, 512)       262144    \n",
            "_________________________________________________________________\n",
            "conv_pw_8_bn (BatchNormaliza (None, 18, 18, 512)       2048      \n",
            "_________________________________________________________________\n",
            "conv_pw_8_relu (ReLU)        (None, 18, 18, 512)       0         \n",
            "_________________________________________________________________\n",
            "conv_dw_9 (DepthwiseConv2D)  (None, 18, 18, 512)       4608      \n",
            "_________________________________________________________________\n",
            "conv_dw_9_bn (BatchNormaliza (None, 18, 18, 512)       2048      \n",
            "_________________________________________________________________\n",
            "conv_dw_9_relu (ReLU)        (None, 18, 18, 512)       0         \n",
            "_________________________________________________________________\n",
            "conv_pw_9 (Conv2D)           (None, 18, 18, 512)       262144    \n",
            "_________________________________________________________________\n",
            "conv_pw_9_bn (BatchNormaliza (None, 18, 18, 512)       2048      \n",
            "_________________________________________________________________\n",
            "conv_pw_9_relu (ReLU)        (None, 18, 18, 512)       0         \n",
            "_________________________________________________________________\n",
            "conv_dw_10 (DepthwiseConv2D) (None, 18, 18, 512)       4608      \n",
            "_________________________________________________________________\n",
            "conv_dw_10_bn (BatchNormaliz (None, 18, 18, 512)       2048      \n",
            "_________________________________________________________________\n",
            "conv_dw_10_relu (ReLU)       (None, 18, 18, 512)       0         \n",
            "_________________________________________________________________\n",
            "conv_pw_10 (Conv2D)          (None, 18, 18, 512)       262144    \n",
            "_________________________________________________________________\n",
            "conv_pw_10_bn (BatchNormaliz (None, 18, 18, 512)       2048      \n",
            "_________________________________________________________________\n",
            "conv_pw_10_relu (ReLU)       (None, 18, 18, 512)       0         \n",
            "_________________________________________________________________\n",
            "conv_dw_11 (DepthwiseConv2D) (None, 18, 18, 512)       4608      \n",
            "_________________________________________________________________\n",
            "conv_dw_11_bn (BatchNormaliz (None, 18, 18, 512)       2048      \n",
            "_________________________________________________________________\n",
            "conv_dw_11_relu (ReLU)       (None, 18, 18, 512)       0         \n",
            "_________________________________________________________________\n",
            "conv_pw_11 (Conv2D)          (None, 18, 18, 512)       262144    \n",
            "_________________________________________________________________\n",
            "conv_pw_11_bn (BatchNormaliz (None, 18, 18, 512)       2048      \n",
            "_________________________________________________________________\n",
            "conv_pw_11_relu (ReLU)       (None, 18, 18, 512)       0         \n",
            "_________________________________________________________________\n",
            "conv_pad_12 (ZeroPadding2D)  (None, 19, 19, 512)       0         \n",
            "_________________________________________________________________\n",
            "conv_dw_12 (DepthwiseConv2D) (None, 9, 9, 512)         4608      \n",
            "_________________________________________________________________\n",
            "conv_dw_12_bn (BatchNormaliz (None, 9, 9, 512)         2048      \n",
            "_________________________________________________________________\n",
            "conv_dw_12_relu (ReLU)       (None, 9, 9, 512)         0         \n",
            "_________________________________________________________________\n",
            "conv_pw_12 (Conv2D)          (None, 9, 9, 1024)        524288    \n",
            "_________________________________________________________________\n",
            "conv_pw_12_bn (BatchNormaliz (None, 9, 9, 1024)        4096      \n",
            "_________________________________________________________________\n",
            "conv_pw_12_relu (ReLU)       (None, 9, 9, 1024)        0         \n",
            "_________________________________________________________________\n",
            "conv_dw_13 (DepthwiseConv2D) (None, 9, 9, 1024)        9216      \n",
            "_________________________________________________________________\n",
            "conv_dw_13_bn (BatchNormaliz (None, 9, 9, 1024)        4096      \n",
            "_________________________________________________________________\n",
            "conv_dw_13_relu (ReLU)       (None, 9, 9, 1024)        0         \n",
            "_________________________________________________________________\n",
            "conv_pw_13 (Conv2D)          (None, 9, 9, 1024)        1048576   \n",
            "_________________________________________________________________\n",
            "conv_pw_13_bn (BatchNormaliz (None, 9, 9, 1024)        4096      \n",
            "_________________________________________________________________\n",
            "conv_pw_13_relu (ReLU)       (None, 9, 9, 1024)        0         \n",
            "_________________________________________________________________\n",
            "global_average_pooling2d_5 ( (None, 1024)              0         \n",
            "_________________________________________________________________\n",
            "reshape_5 (Reshape)          (None, 1, 1024)           0         \n",
            "_________________________________________________________________\n",
            "simple_rnn_1 (SimpleRNN)     (None, 2048)              6293504   \n",
            "_________________________________________________________________\n",
            "gaussian_noise_1 (GaussianNo (None, 2048)              0         \n",
            "_________________________________________________________________\n",
            "dense_1 (Dense)              (None, 1024)              2098176   \n",
            "_________________________________________________________________\n",
            "dense_2 (Dense)              (None, 10)                10250     \n",
            "=================================================================\n",
            "Total params: 11,630,794\n",
            "Trainable params: 11,608,906\n",
            "Non-trainable params: 21,888\n",
            "_________________________________________________________________\n",
            "None\n"
          ],
          "name": "stdout"
        }
      ]
    },
    {
      "cell_type": "code",
      "metadata": {
        "id": "uYlOSabnEy1p",
        "colab_type": "code",
        "colab": {}
      },
      "source": [
        "## fix for multi_gpu_model prediction time longer\n",
        "from keras.layers import Lambda, concatenate\n",
        "from keras import Model\n",
        "import tensorflow as tf\n",
        "\n",
        "def multi_gpu_model(model, gpus):\n",
        "    if isinstance(gpus, (list, tuple)):\n",
        "        num_gpus = len(gpus)\n",
        "        target_gpu_ids = gpus\n",
        "    else:\n",
        "        num_gpus = gpus\n",
        "        target_gpu_ids = range(num_gpus)\n",
        "\n",
        "    def get_slice(data, i, parts):\n",
        "        shape = tf.shape(data)\n",
        "        batch_size = shape[:1]\n",
        "        input_shape = shape[1:]\n",
        "        step = batch_size // parts\n",
        "        if i == num_gpus - 1:\n",
        "            size = batch_size - step * i\n",
        "        else:\n",
        "            size = step\n",
        "        size = tf.concat([size, input_shape], axis=0)\n",
        "        stride = tf.concat([step, input_shape * 0], axis=0)\n",
        "        start = stride * i\n",
        "        return tf.slice(data, start, size)\n",
        "\n",
        "    all_outputs = []\n",
        "    for i in range(len(model.outputs)):\n",
        "        all_outputs.append([])\n",
        "\n",
        "    # Place a copy of the model on each GPU,\n",
        "    # each getting a slice of the inputs.\n",
        "    for i, gpu_id in enumerate(target_gpu_ids):\n",
        "        with tf.device('/gpu:%d' % gpu_id):\n",
        "            with tf.name_scope('replica_%d' % gpu_id):\n",
        "                inputs = []\n",
        "                # Retrieve a slice of the input.\n",
        "                for x in model.inputs:\n",
        "                    input_shape = tuple(x.get_shape().as_list())[1:]\n",
        "                    slice_i = Lambda(get_slice,\n",
        "                                   output_shape=input_shape,\n",
        "                                   arguments={'i': i,\n",
        "                                              'parts': num_gpus})(x)\n",
        "                    inputs.append(slice_i)\n",
        "\n",
        "                # Apply model on slice\n",
        "                # (creating a model replica on the target device).\n",
        "                outputs = model(inputs)\n",
        "                if not isinstance(outputs, list):\n",
        "                    outputs = [outputs]\n",
        "\n",
        "                # Save the outputs for merging back together later.\n",
        "                for o in range(len(outputs)):\n",
        "                    all_outputs[o].append(outputs[o])\n",
        "\n",
        "    # Merge outputs on CPU.\n",
        "    with tf.device('/cpu:0'):\n",
        "        merged = []\n",
        "        for name, outputs in zip(model.output_names, all_outputs):\n",
        "            merged.append(concatenate(outputs,\n",
        "                                    axis=0, name=name))\n",
        "        return Model(model.inputs, merged)\n"
      ],
      "execution_count": null,
      "outputs": []
    },
    {
      "cell_type": "code",
      "metadata": {
        "id": "zxB7_So2E3Eu",
        "colab_type": "code",
        "colab": {}
      },
      "source": [
        "from keras.callbacks import Callback\n",
        "import pickle\n",
        "import sys\n",
        "\n",
        "#Stop training on val_acc\n",
        "class EarlyStoppingByAccVal(Callback):\n",
        "    def __init__(self, monitor='val_acc', value=0.00001, verbose=0):\n",
        "        super(Callback, self).__init__()\n",
        "        self.monitor = monitor\n",
        "        self.value = value\n",
        "        self.verbose = verbose\n",
        "\n",
        "    def on_epoch_end(self, epoch, logs={}):\n",
        "        current = logs.get(self.monitor)\n",
        "        if current is None:\n",
        "            warnings.warn(\"Early stopping requires %s available!\" % self.monitor, RuntimeWarning)\n",
        "\n",
        "        if current >= self.value:\n",
        "            if self.verbose > 0:\n",
        "                print(\"Epoch %05d: early stopping\" % epoch)\n",
        "            self.model.stop_training = True\n",
        "\n",
        "#Save large model using pickle formate instead of h5            \n",
        "class SaveCheckPoint(Callback):\n",
        "    def __init__(self, model, dest_folder):\n",
        "        super(Callback, self).__init__()\n",
        "        self.model = model\n",
        "        self.dest_folder = dest_folder\n",
        "        \n",
        "        #initiate\n",
        "        self.best_val_acc = 0\n",
        "        self.best_val_loss = sys.maxsize #get max value\n",
        "          \n",
        "    def on_epoch_end(self, epoch, logs={}):\n",
        "        val_acc = logs['val_acc']\n",
        "        val_loss = logs['val_loss']\n",
        "\n",
        "        if val_acc > self.best_val_acc:\n",
        "            self.best_val_acc = val_acc\n",
        "            \n",
        "            # Save weights in pickle format instead of h5\n",
        "            print('\\nSaving val_acc %f at %s' %(self.best_val_acc, self.dest_folder))\n",
        "            weigh= self.model.get_weights()\n",
        "\n",
        "            #now, use pickle to save your model weights, instead of .h5\n",
        "            #for heavy model architectures, .h5 file is unsupported.\n",
        "            fpkl= open(self.dest_folder, 'wb') #Python 3\n",
        "            pickle.dump(weigh, fpkl, protocol= pickle.HIGHEST_PROTOCOL)\n",
        "            fpkl.close()\n",
        "            \n",
        "#             model.save('tmp.h5')\n",
        "        elif val_acc == self.best_val_acc:\n",
        "            if val_loss < self.best_val_loss:\n",
        "                self.best_val_loss=val_loss\n",
        "                \n",
        "                # Save weights in pickle format instead of h5\n",
        "                print('\\nSaving val_acc %f at %s' %(self.best_val_acc, self.dest_folder))\n",
        "                weigh= self.model.get_weights()\n",
        "\n",
        "                #now, use pickle to save your model weights, instead of .h5\n",
        "                #for heavy model architectures, .h5 file is unsupported.\n",
        "                fpkl= open(self.dest_folder, 'wb') #Python 3\n",
        "                pickle.dump(weigh, fpkl, protocol= pickle.HIGHEST_PROTOCOL)\n",
        "                fpkl.close()                "
      ],
      "execution_count": null,
      "outputs": []
    },
    {
      "cell_type": "code",
      "metadata": {
        "id": "IO8JJRbeFEgK",
        "colab_type": "code",
        "colab": {}
      },
      "source": [
        "# mkdir checkpoints"
      ],
      "execution_count": null,
      "outputs": []
    },
    {
      "cell_type": "code",
      "metadata": {
        "id": "fQREEQLxE5qu",
        "colab_type": "code",
        "colab": {
          "base_uri": "https://localhost:8080/",
          "height": 275
        },
        "outputId": "f5fed4a0-1bc7-4619-eb31-a861bb32bd0a"
      },
      "source": [
        "#Non-Groups\n",
        "#Split training and validation\n",
        "#Using Expert Data\n",
        "\n",
        "from keras.preprocessing.image import ImageDataGenerator\n",
        "from keras.callbacks import TensorBoard, ModelCheckpoint, EarlyStopping, CSVLogger, ReduceLROnPlateau\n",
        "from keras.optimizers import Adam\n",
        "# from keras.utils import multi_gpu_model\n",
        "\n",
        "import time, os\n",
        "from math import ceil\n",
        "import multiprocessing\n",
        "\n",
        "train_datagen = ImageDataGenerator(\n",
        "#     rescale = 1./255,\n",
        "    rotation_range=30,\n",
        "    width_shift_range=0.3,\n",
        "    height_shift_range=0.3,\n",
        "    shear_range=0.3,\n",
        "    zoom_range=0.3,\n",
        "    horizontal_flip=True,\n",
        "    vertical_flip=True,##\n",
        "#     brightness_range=[0.5, 1.5],##\n",
        "    channel_shift_range=10,##\n",
        "    fill_mode='nearest',\n",
        "    preprocessing_function=preprocess_input,\n",
        ")\n",
        "\n",
        "test_datagen = ImageDataGenerator(\n",
        "#     rescale = 1./255\n",
        "    preprocessing_function=preprocess_input\n",
        ")\n",
        "\n",
        "NUM_GPU = 1\n",
        "batch_size = 80\n",
        "\n",
        "train_set = train_datagen.flow_from_directory('fashion_mnist_train_resized_299',\n",
        "                                                 target_size = (299, 299),\n",
        "                                                 batch_size = batch_size,\n",
        "                                                 class_mode = 'categorical',\n",
        "                                                 shuffle=True,\n",
        "                                                 seed=7,\n",
        "#                                                  subset=\"training\"\n",
        "                                              )\n",
        "\n",
        "valid_set = test_datagen.flow_from_directory('fashion_mnist_test_resized_299',\n",
        "                                                 target_size = (299, 299),\n",
        "                                                 batch_size = batch_size,\n",
        "                                                 class_mode = 'categorical',\n",
        "                                                 shuffle=False,\n",
        "                                                 seed=7,\n",
        "#                                                  subset=\"validation\"\n",
        "                                             )\n",
        "\n",
        "model_txt = 'st'\n",
        "# Helper: Save the model.\n",
        "savedfilename = os.path.join('checkpoints', 'SVHN_Inception_LRG299_STD.hdf5')\n",
        "\n",
        "checkpointer = ModelCheckpoint(savedfilename,\n",
        "                          monitor='val_acc', verbose=1, \n",
        "                          save_best_only=True, mode='max',save_weights_only=True)########\n",
        "\n",
        "# Helper: TensorBoard\n",
        "tb = TensorBoard(log_dir=os.path.join('svhn_output', 'logs', model_txt))\n",
        "\n",
        "# Helper: Save results.\n",
        "timestamp = time.time()\n",
        "csv_logger = CSVLogger(os.path.join('svhn_output', 'logs', model_txt + '-' + 'training-' + \\\n",
        "    str(timestamp) + '.log'))\n",
        "\n",
        "earlystopping = EarlyStoppingByAccVal(monitor='val_acc', value=0.9900, verbose=1)\n",
        "\n",
        "#Using multiple models if more than 1 GPU\n",
        "if NUM_GPU != 1:\n",
        "    model_mul = multi_gpu_model(model_1, gpus=NUM_GPU)\n",
        "else:\n",
        "    model_mul = model_1\n",
        "    \n",
        "epochs = 30##!!!\n",
        "lr = 1e-4\n",
        "decay = lr/epochs\n",
        "optimizer = Adam(lr=lr, decay=decay)\n",
        "\n",
        "model_mul.compile(optimizer=optimizer,loss='categorical_crossentropy',metrics=['accuracy'])\n",
        "\n",
        "step_size_train=ceil(train_set.n/train_set.batch_size)\n",
        "step_size_valid=ceil(valid_set.n/valid_set.batch_size)\n",
        "# step_size_test=ceil(testing_set.n//testing_set.batch_size)\n",
        "\n",
        "result = model_mul.fit_generator(\n",
        "    generator = train_set, \n",
        "    steps_per_epoch = step_size_train,\n",
        "    validation_data = valid_set,\n",
        "    validation_steps = step_size_valid,\n",
        "    shuffle=True,\n",
        "    epochs=epochs,\n",
        "#     callbacks=[earlystopping],\n",
        "#     callbacks=[tb, csv_logger, checkpointer, earlystopping],        \n",
        "    verbose=1) "
      ],
      "execution_count": null,
      "outputs": [
        {
          "output_type": "stream",
          "text": [
            "Found 60000 images belonging to 10 classes.\n",
            "Found 10000 images belonging to 10 classes.\n",
            "WARNING:tensorflow:From /usr/local/lib/python3.6/dist-packages/keras/optimizers.py:793: The name tf.train.Optimizer is deprecated. Please use tf.compat.v1.train.Optimizer instead.\n",
            "\n",
            "WARNING:tensorflow:From /usr/local/lib/python3.6/dist-packages/keras/backend/tensorflow_backend.py:3576: The name tf.log is deprecated. Please use tf.math.log instead.\n",
            "\n",
            "WARNING:tensorflow:From /usr/local/lib/python3.6/dist-packages/tensorflow_core/python/ops/math_grad.py:1424: where (from tensorflow.python.ops.array_ops) is deprecated and will be removed in a future version.\n",
            "Instructions for updating:\n",
            "Use tf.where in 2.0, which has the same broadcast rule as np.where\n",
            "WARNING:tensorflow:From /usr/local/lib/python3.6/dist-packages/keras/backend/tensorflow_backend.py:1033: The name tf.assign_add is deprecated. Please use tf.compat.v1.assign_add instead.\n",
            "\n",
            "WARNING:tensorflow:From /usr/local/lib/python3.6/dist-packages/keras/backend/tensorflow_backend.py:1020: The name tf.assign is deprecated. Please use tf.compat.v1.assign instead.\n",
            "\n",
            "Epoch 1/30\n"
          ],
          "name": "stdout"
        }
      ]
    },
    {
      "cell_type": "code",
      "metadata": {
        "id": "1JwAn1jKFZV6",
        "colab_type": "code",
        "colab": {}
      },
      "source": [
        "import matplotlib.pyplot as plt\n",
        "history = result\n",
        "# summarize history for accuracy\n",
        "plt.plot(history.history['acc'])\n",
        "plt.plot(history.history['val_acc'])\n",
        "plt.title('model accuracy')\n",
        "plt.ylabel('accuracy')\n",
        "plt.xlabel('epoch')\n",
        "plt.legend(['train', 'test'], loc='upper left')\n",
        "plt.grid()\n",
        "plt.show()\n",
        "# summarize history for loss\n",
        "plt.plot(history.history['loss'])\n",
        "plt.plot(history.history['val_loss'])\n",
        "plt.title('model loss')\n",
        "plt.ylabel('loss')\n",
        "plt.xlabel('epoch')\n",
        "plt.legend(['train', 'test'], loc='upper left')\n",
        "plt.show()"
      ],
      "execution_count": null,
      "outputs": []
    },
    {
      "cell_type": "code",
      "metadata": {
        "id": "hUfMZZTDY6td",
        "colab_type": "code",
        "colab": {}
      },
      "source": [
        "import numpy as np\n",
        "\n",
        "print(result.history['val_acc'])\n",
        "print(np.mean(result.history['val_acc']))\n",
        "print(np.max(result.history['val_acc']))\n",
        "\n",
        "print(result.history['acc'])\n",
        "print(np.mean(result.history['acc']))\n",
        "print(np.max(result.history['acc']))"
      ],
      "execution_count": null,
      "outputs": []
    }
  ]
}