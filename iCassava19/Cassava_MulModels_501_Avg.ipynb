{
  "nbformat": 4,
  "nbformat_minor": 0,
  "metadata": {
    "kernelspec": {
      "display_name": "Python 3",
      "language": "python",
      "name": "python3"
    },
    "language_info": {
      "codemirror_mode": {
        "name": "ipython",
        "version": 3
      },
      "file_extension": ".py",
      "mimetype": "text/x-python",
      "name": "python",
      "nbconvert_exporter": "python",
      "pygments_lexer": "ipython3",
      "version": "3.5.2"
    },
    "colab": {
      "name": "Cassava_MulModels_501_Avg.ipynb",
      "provenance": []
    }
  },
  "cells": [
    {
      "cell_type": "code",
      "metadata": {
        "id": "cMA28YY4grKa",
        "colab_type": "code",
        "colab": {}
      },
      "source": [
        "# AVG ALL SET"
      ],
      "execution_count": null,
      "outputs": []
    },
    {
      "cell_type": "code",
      "metadata": {
        "id": "KA6-JmuVgrKf",
        "colab_type": "code",
        "colab": {}
      },
      "source": [
        ""
      ],
      "execution_count": null,
      "outputs": []
    },
    {
      "cell_type": "code",
      "metadata": {
        "id": "obj5Knu6grKj",
        "colab_type": "code",
        "colab": {}
      },
      "source": [
        "from tensorflow.python.client import device_lib\n",
        "print(device_lib.list_local_devices())"
      ],
      "execution_count": null,
      "outputs": []
    },
    {
      "cell_type": "code",
      "metadata": {
        "id": "tyDCBJpggrKn",
        "colab_type": "code",
        "colab": {}
      },
      "source": [
        "import os\n",
        "os.environ[\"CUDA_VISIBLE_DEVICES\"]=\"0,1,2,3\""
      ],
      "execution_count": null,
      "outputs": []
    },
    {
      "cell_type": "code",
      "metadata": {
        "id": "WH-52YR7grKq",
        "colab_type": "code",
        "colab": {},
        "outputId": "db5b0efc-6a7f-447b-b02b-aa091a1a4acd"
      },
      "source": [
        "cd /media/datastorage/Phong/cassava/cv/1"
      ],
      "execution_count": null,
      "outputs": [
        {
          "output_type": "stream",
          "text": [
            "/media/datastorage/Phong/cassava/cv/1\n"
          ],
          "name": "stdout"
        }
      ]
    },
    {
      "cell_type": "code",
      "metadata": {
        "id": "n52UkiscgrKz",
        "colab_type": "code",
        "colab": {}
      },
      "source": [
        "#3 Models\n",
        "# Set 5\n",
        "#0.9368\n",
        "import numpy as np\n",
        "import os\n",
        "\n",
        "mean_pred5 = np.load(os.path.join('pred_npy','Cassava_NonGrp_Set5_M3_L2_LRG501_Mul_STD.npy'))\n",
        "mean_pred4 = np.load(os.path.join('pred_npy','Cassava_NonGrp_Set4_T1_3M_STD.npy'))\n",
        "mean_pred3 = np.load(os.path.join('pred_npy','Cassava_NonGrp_Set3_0Crop_SEResNext101_LRG501_Mul_STD.npy'))\n",
        "mean_pred2 = np.load(os.path.join('pred_npy','Cassava_NonGrp_Set2_3Crop_SEResNext101_LRG501_Mul_STD.npy'))\n",
        "mean_pred1 = np.load(os.path.join('pred_npy','Cassava_NonGrp_Set1_3Crop_SEResNext101_LRG501_Mul_STD.npy'))\n",
        "mean_pred = (mean_pred1+mean_pred2+mean_pred3+mean_pred4+mean_pred5)/5"
      ],
      "execution_count": null,
      "outputs": []
    },
    {
      "cell_type": "code",
      "metadata": {
        "id": "xHQln2MHgrK3",
        "colab_type": "code",
        "colab": {}
      },
      "source": [
        "#Cassava_NonGrp_Set3_T1_3M_STD"
      ],
      "execution_count": null,
      "outputs": []
    },
    {
      "cell_type": "code",
      "metadata": {
        "id": "ULfPcsHjgrK5",
        "colab_type": "code",
        "colab": {}
      },
      "source": [
        "mean_pred5 = np.load(os.path.join('pred_npy','Cassava_NonGrp_Set5_M3_L2_LRG501_Mul_STD.npy'))\n",
        "mean_pred4 = np.load(os.path.join('pred_npy','Cassava_NonGrp_Set4_T1_3M_STD.npy'))\n",
        "mean_pred3 = np.load(os.path.join('pred_npy','Cassava_NonGrp_Set3_T1_0Crop_SEResNext101_LRG501_Mul_STD_L3.npy'))\n",
        "# mean_pred3 = np.load(os.path.join('pred_npy','Cassava_NonGrp_Set3_0Crop_SEResNext101_LRG501_Mul_STD.npy'))\n",
        "mean_pred2 = np.load(os.path.join('pred_npy','Cassava_NonGrp_Set2_3Crop_SEResNext101_LRG501_Mul_STD.npy'))\n",
        "mean_pred1 = np.load(os.path.join('pred_npy','Cassava_NonGrp_Set1_3Crop_SEResNext101_LRG501_Mul_STD.npy'))\n",
        "mean_pred = (mean_pred1+mean_pred2+mean_pred3+mean_pred4+mean_pred5)/5"
      ],
      "execution_count": null,
      "outputs": []
    },
    {
      "cell_type": "code",
      "metadata": {
        "id": "rq3iKrDVgrK8",
        "colab_type": "code",
        "colab": {}
      },
      "source": [
        "mean_pred5 = np.load(os.path.join('pred_npy','Cassava_NonGrp_Set5_M3_L2_LRG501_Mul_STD.npy'))\n",
        "mean_pred4 = np.load(os.path.join('pred_npy','Cassava_NonGrp_Set4_T1_3M_STD.npy'))\n",
        "mean_pred3 = np.load(os.path.join('pred_npy','Cassava_NonGrp_Set3_T1_3Crop_SEResNext101_LRG501_Mul_STD_L3.npy'))\n",
        "# mean_pred3 = np.load(os.path.join('pred_npy','Cassava_NonGrp_Set3_0Crop_SEResNext101_LRG501_Mul_STD.npy'))\n",
        "mean_pred2 = np.load(os.path.join('pred_npy','Cassava_NonGrp_Set2_3Crop_SEResNext101_LRG501_Mul_STD.npy'))\n",
        "mean_pred1 = np.load(os.path.join('pred_npy','Cassava_NonGrp_Set1_3Crop_SEResNext101_LRG501_Mul_STD.npy'))\n",
        "mean_pred = (mean_pred1+mean_pred2+mean_pred3+mean_pred4+mean_pred5)/5"
      ],
      "execution_count": null,
      "outputs": []
    },
    {
      "cell_type": "code",
      "metadata": {
        "id": "b6LhP8ZcgrK-",
        "colab_type": "code",
        "colab": {}
      },
      "source": [
        "mean_pred5 = np.load(os.path.join('pred_npy','Cassava_NonGrp_Set5_M3_L2_LRG501_Mul_STD.npy'))\n",
        "mean_pred4 = np.load(os.path.join('pred_npy','Cassava_NonGrp_Set4_T1_3M_STD.npy'))\n",
        "# mean_pred3 = np.load(os.path.join('pred_npy','Cassava_NonGrp_Set3_T1_3Crop_SEResNext101_LRG501_Mul_STD_L3.npy'))\n",
        "# # mean_pred3 = np.load(os.path.join('pred_npy','Cassava_NonGrp_Set3_0Crop_SEResNext101_LRG501_Mul_STD.npy'))\n",
        "# mean_pred2 = np.load(os.path.join('pred_npy','Cassava_NonGrp_Set2_3Crop_SEResNext101_LRG501_Mul_STD.npy'))\n",
        "# mean_pred1 = np.load(os.path.join('pred_npy','Cassava_NonGrp_Set1_3Crop_SEResNext101_LRG501_Mul_STD.npy'))\n",
        "mean_pred = (mean_pred4+mean_pred5)/2"
      ],
      "execution_count": null,
      "outputs": []
    },
    {
      "cell_type": "code",
      "metadata": {
        "id": "781dvWkKgrLB",
        "colab_type": "code",
        "colab": {}
      },
      "source": [
        "mean_pred5 = np.load(os.path.join('pred_npy','Cassava_NonGrp_Set5_M3_L2_LRG501_Mul_STD.npy'))\n",
        "mean_pred4 = np.load(os.path.join('pred_npy','Cassava_NonGrp_Set4_T1_3M_STD.npy'))\n",
        "mean_pred3 = np.load(os.path.join('pred_npy','Cassava_NonGrp_Set3_T1_3Crop_SEResNext101_LRG501_Mul_STD_L3.npy'))\n",
        "# # mean_pred3 = np.load(os.path.join('pred_npy','Cassava_NonGrp_Set3_0Crop_SEResNext101_LRG501_Mul_STD.npy'))\n",
        "# mean_pred2 = np.load(os.path.join('pred_npy','Cassava_NonGrp_Set2_3Crop_SEResNext101_LRG501_Mul_STD.npy'))\n",
        "# mean_pred1 = np.load(os.path.join('pred_npy','Cassava_NonGrp_Set1_3Crop_SEResNext101_LRG501_Mul_STD.npy'))\n",
        "mean_pred = (mean_pred3+mean_pred4+mean_pred5)/3"
      ],
      "execution_count": null,
      "outputs": []
    },
    {
      "cell_type": "code",
      "metadata": {
        "id": "WpGCAdh0grLE",
        "colab_type": "code",
        "colab": {}
      },
      "source": [
        "mean_pred5 = np.load(os.path.join('pred_npy','Cassava_NonGrp_Set5_M3_L2_LRG501_Mul_STD.npy'))\n",
        "mean_pred4 = np.load(os.path.join('pred_npy','Cassava_NonGrp_Set4_T1_3M_STD.npy'))\n",
        "# mean_pred3 = np.load(os.path.join('pred_npy','Cassava_NonGrp_Set3_T1_3Crop_SEResNext101_LRG501_Mul_STD_L3.npy'))\n",
        "mean_pred3 = np.load(os.path.join('pred_npy','Cassava_NonGrp_Set3_0Crop_SEResNext101_LRG501_Mul_STD.npy'))\n",
        "# mean_pred2 = np.load(os.path.join('pred_npy','Cassava_NonGrp_Set2_3Crop_SEResNext101_LRG501_Mul_STD.npy'))\n",
        "# mean_pred1 = np.load(os.path.join('pred_npy','Cassava_NonGrp_Set1_3Crop_SEResNext101_LRG501_Mul_STD.npy'))\n",
        "mean_pred = (mean_pred3+mean_pred4+mean_pred5)/3"
      ],
      "execution_count": null,
      "outputs": []
    },
    {
      "cell_type": "code",
      "metadata": {
        "id": "09jFZbGSgrLI",
        "colab_type": "code",
        "colab": {}
      },
      "source": [
        "# # mean_pred4 = np.load(os.path.join('pred_npy','Cassava_NonGrp_Set4_0Crop_SEResNext101_LRG501_Mul_STD.npy'))\n",
        "# mean_pred3 = np.load(os.path.join('pred_npy','Cassava_NonGrp_Set3_0Crop_SEResNext101_LRG501_Mul_STD.npy'))\n",
        "# mean_pred2 = np.load(os.path.join('pred_npy','Cassava_NonGrp_Set2_3Crop_SEResNext101_LRG501_Mul_STD.npy'))\n",
        "# mean_pred1 = np.load(os.path.join('pred_npy','Cassava_NonGrp_Set1_3Crop_SEResNext101_LRG501_Mul_STD.npy'))"
      ],
      "execution_count": null,
      "outputs": []
    },
    {
      "cell_type": "code",
      "metadata": {
        "id": "bMKb3nCngrLL",
        "colab_type": "code",
        "colab": {}
      },
      "source": [
        "m3_1 = np.load(os.path.join('pred_npy','Cassava_NonGrp_Set3_T1_3Crop_SEResNext101_LRG501_Mul_STD_L3.npy'))\n",
        "m3_2 = np.load(os.path.join('pred_npy','Cassava_NonGrp_Set3_T1_3Crop_Xception_LRG501_Mul_STD.npy'))\n",
        "m3_3 = np.load(os.path.join('pred_npy','Cassava_NonGrp_Set3_T1_0Crop_IcpResNetV2_LRG501_Mul_STD_L3.npy'))\n",
        "mean_pred3 = (m3_1+m3_2+m3_3)/3                       "
      ],
      "execution_count": null,
      "outputs": []
    },
    {
      "cell_type": "code",
      "metadata": {
        "id": "eAcRnM_tgrLO",
        "colab_type": "code",
        "colab": {}
      },
      "source": [
        "#0.9333\n",
        "import numpy as np\n",
        "import os\n",
        "\n",
        "mean_pred5 = np.load(os.path.join('pred_npy','Cassava_NonGrp_Set5_M3_L2_LRG501_Mul_STD.npy'))\n",
        "mean_pred4 = np.load(os.path.join('pred_npy','Cassava_NonGrp_Set4_T1_3M_STD.npy'))\n",
        "# mean_pred3 = np.load(os.path.join('pred_npy','Cassava_NonGrp_Set3_0Crop_SEResNext101_LRG501_Mul_STD.npy'))\n",
        "mean_pred2 = np.load(os.path.join('pred_npy','Cassava_NonGrp_Set2_3Crop_SEResNext101_LRG501_Mul_STD.npy'))\n",
        "\n",
        "mean_pred1 = np.load(os.path.join('pred_npy','Cassava_NonGrp_Set1_T1_3Crop_SEResNext101_LRG501_Mul_STD_L3.npy'))\n",
        "mean_pred = (mean_pred1+mean_pred2+mean_pred3+mean_pred4+mean_pred5)/5"
      ],
      "execution_count": null,
      "outputs": []
    },
    {
      "cell_type": "code",
      "metadata": {
        "id": "oihsG4UQgrLQ",
        "colab_type": "code",
        "colab": {}
      },
      "source": [
        "mean_pred5 = np.load(os.path.join('pred_npy','Cassava_NonGrp_Set5_M3_L2_LRG501_Mul_STD.npy'))\n",
        "mean_pred4 = np.load(os.path.join('pred_npy','Cassava_NonGrp_Set4_T1_3M_STD.npy'))\n",
        "# mean_pred3 = np.load(os.path.join('pred_npy','Cassava_NonGrp_Set3_T1_3Crop_SEResNext101_LRG501_Mul_STD_L3.npy'))\n",
        "# mean_pred3 = np.load(os.path.join('pred_npy','Cassava_NonGrp_Set3_0Crop_SEResNext101_LRG501_Mul_STD.npy'))\n",
        "# mean_pred2 = np.load(os.path.join('pred_npy','Cassava_NonGrp_Set2_3Crop_SEResNext101_LRG501_Mul_STD.npy'))\n",
        "# mean_pred1 = np.load(os.path.join('pred_npy','Cassava_NonGrp_Set1_3Crop_SEResNext101_LRG501_Mul_STD.npy'))\n",
        "mean_pred = (mean_pred3+mean_pred4+mean_pred5)/3"
      ],
      "execution_count": null,
      "outputs": []
    },
    {
      "cell_type": "code",
      "metadata": {
        "id": "SoLCKT0OgrLT",
        "colab_type": "code",
        "colab": {}
      },
      "source": [
        "mean_pred = mean_pred3"
      ],
      "execution_count": null,
      "outputs": []
    },
    {
      "cell_type": "code",
      "metadata": {
        "id": "JO1hsHHCgrLX",
        "colab_type": "code",
        "colab": {}
      },
      "source": [
        "#0.9333\n",
        "import numpy as np\n",
        "import os\n",
        "\n",
        "mean_pred5 = np.load(os.path.join('pred_npy','Cassava_NonGrp_Set5_M3_L2_LRG501_Mul_STD.npy'))\n",
        "mean_pred4 = np.load(os.path.join('pred_npy','Cassava_NonGrp_Set4_T1_3M_STD.npy'))\n",
        "mean_pred3 = np.load(os.path.join('pred_npy','Cassava_NonGrp_Set3_0Crop_SEResNext101_LRG501_Mul_STD.npy'))\n",
        "mean_pred2 = np.load(os.path.join('pred_npy','Cassava_NonGrp_Set2_3Crop_SEResNext101_LRG501_Mul_STD.npy'))\n",
        "\n",
        "mean_pred1 = np.load(os.path.join('pred_npy','Cassava_NonGrp_Set1_T1_3Crop_SEResNext101_LRG501_Mul_STD_L3.npy'))\n",
        "mean_pred = (mean_pred1+mean_pred2+mean_pred3+mean_pred4+mean_pred5)/5"
      ],
      "execution_count": null,
      "outputs": []
    },
    {
      "cell_type": "code",
      "metadata": {
        "id": "6ZSk9fQmgrLa",
        "colab_type": "code",
        "colab": {},
        "outputId": "78b5822d-171d-4bcd-ef8f-da33aedfe47c"
      },
      "source": [
        "from keras.preprocessing.image import ImageDataGenerator\n",
        "from math import ceil\n",
        "import numpy as np\n",
        "\n",
        "batch_size = 20\n",
        "\n",
        "#Crop-Official Test\n",
        "def random_crop(img, random_crop_size):\n",
        "    # Note: image_data_format is 'channel_last'\n",
        "    assert img.shape[2] == 3\n",
        "    height, width = img.shape[0], img.shape[1]\n",
        "    dy, dx = random_crop_size\n",
        "    x = np.random.randint(0, width - dx + 1)\n",
        "    y = np.random.randint(0, height - dy + 1)\n",
        "    return img[y:(y+dy), x:(x+dx), :]\n",
        "\n",
        "def crop_generator(batches, crop_length):\n",
        "    \"\"\"Generate random crops from the image batches\"\"\"\n",
        "    while True:\n",
        "        batch_x, batch_y = next(batches)\n",
        "        batch_crops = np.zeros((batch_x.shape[0], crop_length, crop_length, 3))\n",
        "        for i in range(batch_x.shape[0]):\n",
        "            batch_crops[i] = random_crop(batch_x[i], (crop_length, crop_length))\n",
        "        yield (batch_crops, batch_y)\n",
        "\n",
        "train_datagen = ImageDataGenerator(\n",
        "\n",
        ")\n",
        "\n",
        "train_set = train_datagen.flow_from_directory('train_3',\n",
        "                                                 target_size = (501, 501),\n",
        "                                                 batch_size = batch_size,\n",
        "                                                 class_mode = 'categorical',\n",
        "                                                 shuffle=True,\n",
        "                                                 seed=7,\n",
        "#                                                  subset=\"training\"\n",
        "                                              )\n",
        "        \n",
        "test_datagen_crop = ImageDataGenerator(\n",
        ")\n",
        "\n",
        "testing_set_crop = test_datagen_crop.flow_from_directory('test',\n",
        "                                                 target_size = (540, 540),\n",
        "                                                 batch_size = batch_size,\n",
        "                                                 class_mode = 'categorical',\n",
        "                                                 shuffle=False,\n",
        "                                                 seed=7,\n",
        "#                                                  subset=\"training\"\n",
        "                                              )\n",
        "#customized generator\n",
        "test_crops = crop_generator(testing_set_crop, 501)\n",
        "\n",
        "step_size_test_crop = ceil(testing_set_crop.n/testing_set_crop.batch_size)\n",
        "\n",
        "predicted_class_indices_mean=np.argmax(mean_pred,axis=1)\n",
        "labels = (train_set.class_indices)\n",
        "labels = dict((v,k) for k,v in labels.items())\n",
        "finalpre = [labels[k] for k in predicted_class_indices_mean]\n",
        "\n",
        "import pandas as pd\n",
        "filenames=testing_set_crop.filenames\n",
        "results=pd.DataFrame({\"id\":filenames,\n",
        "                      \"predicted\":finalpre,\n",
        "                      })\n",
        "results.to_csv('Cassava_NonGrp_MulModels540_2808_v10.csv')\n",
        "results.head(10)"
      ],
      "execution_count": null,
      "outputs": [
        {
          "output_type": "stream",
          "text": [
            "Found 4527 images belonging to 5 classes.\n",
            "Found 3774 images belonging to 1 classes.\n"
          ],
          "name": "stdout"
        },
        {
          "output_type": "execute_result",
          "data": {
            "text/html": [
              "<div>\n",
              "<style scoped>\n",
              "    .dataframe tbody tr th:only-of-type {\n",
              "        vertical-align: middle;\n",
              "    }\n",
              "\n",
              "    .dataframe tbody tr th {\n",
              "        vertical-align: top;\n",
              "    }\n",
              "\n",
              "    .dataframe thead th {\n",
              "        text-align: right;\n",
              "    }\n",
              "</style>\n",
              "<table border=\"1\" class=\"dataframe\">\n",
              "  <thead>\n",
              "    <tr style=\"text-align: right;\">\n",
              "      <th></th>\n",
              "      <th>id</th>\n",
              "      <th>predicted</th>\n",
              "    </tr>\n",
              "  </thead>\n",
              "  <tbody>\n",
              "    <tr>\n",
              "      <th>0</th>\n",
              "      <td>0/test-img-0.jpg</td>\n",
              "      <td>cbsd</td>\n",
              "    </tr>\n",
              "    <tr>\n",
              "      <th>1</th>\n",
              "      <td>0/test-img-1.jpg</td>\n",
              "      <td>cbsd</td>\n",
              "    </tr>\n",
              "    <tr>\n",
              "      <th>2</th>\n",
              "      <td>0/test-img-10.jpg</td>\n",
              "      <td>cmd</td>\n",
              "    </tr>\n",
              "    <tr>\n",
              "      <th>3</th>\n",
              "      <td>0/test-img-100.jpg</td>\n",
              "      <td>cgm</td>\n",
              "    </tr>\n",
              "    <tr>\n",
              "      <th>4</th>\n",
              "      <td>0/test-img-1000.jpg</td>\n",
              "      <td>cbsd</td>\n",
              "    </tr>\n",
              "    <tr>\n",
              "      <th>5</th>\n",
              "      <td>0/test-img-1001.jpg</td>\n",
              "      <td>cmd</td>\n",
              "    </tr>\n",
              "    <tr>\n",
              "      <th>6</th>\n",
              "      <td>0/test-img-1002.jpg</td>\n",
              "      <td>cmd</td>\n",
              "    </tr>\n",
              "    <tr>\n",
              "      <th>7</th>\n",
              "      <td>0/test-img-1003.jpg</td>\n",
              "      <td>cmd</td>\n",
              "    </tr>\n",
              "    <tr>\n",
              "      <th>8</th>\n",
              "      <td>0/test-img-1004.jpg</td>\n",
              "      <td>cmd</td>\n",
              "    </tr>\n",
              "    <tr>\n",
              "      <th>9</th>\n",
              "      <td>0/test-img-1005.jpg</td>\n",
              "      <td>cgm</td>\n",
              "    </tr>\n",
              "  </tbody>\n",
              "</table>\n",
              "</div>"
            ],
            "text/plain": [
              "                    id predicted\n",
              "0     0/test-img-0.jpg      cbsd\n",
              "1     0/test-img-1.jpg      cbsd\n",
              "2    0/test-img-10.jpg       cmd\n",
              "3   0/test-img-100.jpg       cgm\n",
              "4  0/test-img-1000.jpg      cbsd\n",
              "5  0/test-img-1001.jpg       cmd\n",
              "6  0/test-img-1002.jpg       cmd\n",
              "7  0/test-img-1003.jpg       cmd\n",
              "8  0/test-img-1004.jpg       cmd\n",
              "9  0/test-img-1005.jpg       cgm"
            ]
          },
          "metadata": {
            "tags": []
          },
          "execution_count": 8
        }
      ]
    },
    {
      "cell_type": "code",
      "metadata": {
        "id": "sScq6W_egrLd",
        "colab_type": "code",
        "colab": {}
      },
      "source": [
        "cp Cassava_NonGrp_MulModels540_2808_v10.csv /home/bribeiro/Phong/Nat19/Cassava_NonGrp_MulModels540_2808_v10.csv"
      ],
      "execution_count": null,
      "outputs": []
    },
    {
      "cell_type": "code",
      "metadata": {
        "id": "Y5fr5fNPgrLg",
        "colab_type": "code",
        "colab": {}
      },
      "source": [
        "# cp pred_npy/Cassava_NonGrp_Set1_3Crop_SEResNext101_LRG501_Mul_STD.npy pred_npy/Cassava_NonGrp_Set1_3Crop_SEResNext101_LRG501_Mul_STD_bkp.npy"
      ],
      "execution_count": null,
      "outputs": []
    },
    {
      "cell_type": "code",
      "metadata": {
        "id": "SUznywlcgrLj",
        "colab_type": "code",
        "colab": {}
      },
      "source": [
        "cp checkpoints/Cassava_NonGrp_Set1_SEResNext101_LRG501_Mul_STD.pkl checkpoints/Cassava_NonGrp_Set1_SEResNext101_LRG501_Mul_STD_bkp.pkl"
      ],
      "execution_count": null,
      "outputs": []
    },
    {
      "cell_type": "code",
      "metadata": {
        "id": "Wte7TC6igrLl",
        "colab_type": "code",
        "colab": {}
      },
      "source": [
        "mean_pred = []"
      ],
      "execution_count": null,
      "outputs": []
    },
    {
      "cell_type": "code",
      "metadata": {
        "id": "skARqIVRgrLo",
        "colab_type": "code",
        "colab": {}
      },
      "source": [
        "mean_pred.append(mean_pred5)"
      ],
      "execution_count": null,
      "outputs": []
    },
    {
      "cell_type": "code",
      "metadata": {
        "id": "hqaEk6kBgrLs",
        "colab_type": "code",
        "colab": {}
      },
      "source": [
        "mean_pred.append(mean_pred4)"
      ],
      "execution_count": null,
      "outputs": []
    },
    {
      "cell_type": "code",
      "metadata": {
        "id": "KaSuT_1XgrLv",
        "colab_type": "code",
        "colab": {}
      },
      "source": [
        "mean_pred.append(mean_pred3)"
      ],
      "execution_count": null,
      "outputs": []
    },
    {
      "cell_type": "code",
      "metadata": {
        "id": "5ksm9-3OgrLy",
        "colab_type": "code",
        "colab": {}
      },
      "source": [
        "mean_pred.append(mean_pred2)"
      ],
      "execution_count": null,
      "outputs": []
    },
    {
      "cell_type": "code",
      "metadata": {
        "id": "CvHTdvfhgrL0",
        "colab_type": "code",
        "colab": {}
      },
      "source": [
        "mean_pred.append(mean_pred1)"
      ],
      "execution_count": null,
      "outputs": []
    },
    {
      "cell_type": "code",
      "metadata": {
        "id": "wb8QWqrYgrL3",
        "colab_type": "code",
        "colab": {},
        "outputId": "207b69f1-5a3a-4a6f-e4a9-d578f9c35428"
      },
      "source": [
        "from keras.preprocessing.image import ImageDataGenerator\n",
        "from math import ceil\n",
        "import numpy as np\n",
        "\n",
        "batch_size = 20\n",
        "\n",
        "#Crop-Official Test\n",
        "def random_crop(img, random_crop_size):\n",
        "    # Note: image_data_format is 'channel_last'\n",
        "    assert img.shape[2] == 3\n",
        "    height, width = img.shape[0], img.shape[1]\n",
        "    dy, dx = random_crop_size\n",
        "    x = np.random.randint(0, width - dx + 1)\n",
        "    y = np.random.randint(0, height - dy + 1)\n",
        "    return img[y:(y+dy), x:(x+dx), :]\n",
        "\n",
        "def crop_generator(batches, crop_length):\n",
        "    \"\"\"Generate random crops from the image batches\"\"\"\n",
        "    while True:\n",
        "        batch_x, batch_y = next(batches)\n",
        "        batch_crops = np.zeros((batch_x.shape[0], crop_length, crop_length, 3))\n",
        "        for i in range(batch_x.shape[0]):\n",
        "            batch_crops[i] = random_crop(batch_x[i], (crop_length, crop_length))\n",
        "        yield (batch_crops, batch_y)\n",
        "\n",
        "train_datagen = ImageDataGenerator(\n",
        "\n",
        ")\n",
        "\n",
        "train_set = train_datagen.flow_from_directory('train_5',\n",
        "                                                 target_size = (501, 501),\n",
        "                                                 batch_size = batch_size,\n",
        "                                                 class_mode = 'categorical',\n",
        "                                                 shuffle=True,\n",
        "                                                 seed=7,\n",
        "#                                                  subset=\"training\"\n",
        "                                              )\n",
        "        \n",
        "test_datagen_crop = ImageDataGenerator(\n",
        ")\n",
        "\n",
        "testing_set_crop = test_datagen_crop.flow_from_directory('test',\n",
        "                                                 target_size = (540, 540),\n",
        "                                                 batch_size = batch_size,\n",
        "                                                 class_mode = 'categorical',\n",
        "                                                 shuffle=False,\n",
        "                                                 seed=7,\n",
        "#                                                  subset=\"training\"\n",
        "                                              )\n",
        "#customized generator\n",
        "test_crops = crop_generator(testing_set_crop, 501)\n",
        "\n",
        "step_size_test_crop = ceil(testing_set_crop.n/testing_set_crop.batch_size)\n",
        "\n",
        "predicted_class_indices_mean=np.argmax(mean_pred,axis=1)\n",
        "labels = (train_set.class_indices)\n",
        "labels = dict((v,k) for k,v in labels.items())\n",
        "finalpre = [labels[k] for k in predicted_class_indices_mean]\n",
        "\n",
        "import pandas as pd\n",
        "filenames=testing_set_crop.filenames\n",
        "results=pd.DataFrame({\"id\":filenames,\n",
        "                      \"predicted\":finalpre,\n",
        "                      })\n",
        "results.to_csv('Cassava_NonGrp_MulModels540_2608_v18.csv')\n",
        "results.head(10)"
      ],
      "execution_count": null,
      "outputs": [
        {
          "output_type": "stream",
          "text": [
            "Found 4527 images belonging to 5 classes.\n",
            "Found 3774 images belonging to 1 classes.\n"
          ],
          "name": "stdout"
        },
        {
          "output_type": "execute_result",
          "data": {
            "text/html": [
              "<div>\n",
              "<style scoped>\n",
              "    .dataframe tbody tr th:only-of-type {\n",
              "        vertical-align: middle;\n",
              "    }\n",
              "\n",
              "    .dataframe tbody tr th {\n",
              "        vertical-align: top;\n",
              "    }\n",
              "\n",
              "    .dataframe thead th {\n",
              "        text-align: right;\n",
              "    }\n",
              "</style>\n",
              "<table border=\"1\" class=\"dataframe\">\n",
              "  <thead>\n",
              "    <tr style=\"text-align: right;\">\n",
              "      <th></th>\n",
              "      <th>id</th>\n",
              "      <th>predicted</th>\n",
              "    </tr>\n",
              "  </thead>\n",
              "  <tbody>\n",
              "    <tr>\n",
              "      <th>0</th>\n",
              "      <td>0/test-img-0.jpg</td>\n",
              "      <td>cbsd</td>\n",
              "    </tr>\n",
              "    <tr>\n",
              "      <th>1</th>\n",
              "      <td>0/test-img-1.jpg</td>\n",
              "      <td>cbsd</td>\n",
              "    </tr>\n",
              "    <tr>\n",
              "      <th>2</th>\n",
              "      <td>0/test-img-10.jpg</td>\n",
              "      <td>cmd</td>\n",
              "    </tr>\n",
              "    <tr>\n",
              "      <th>3</th>\n",
              "      <td>0/test-img-100.jpg</td>\n",
              "      <td>cgm</td>\n",
              "    </tr>\n",
              "    <tr>\n",
              "      <th>4</th>\n",
              "      <td>0/test-img-1000.jpg</td>\n",
              "      <td>cbsd</td>\n",
              "    </tr>\n",
              "    <tr>\n",
              "      <th>5</th>\n",
              "      <td>0/test-img-1001.jpg</td>\n",
              "      <td>cmd</td>\n",
              "    </tr>\n",
              "    <tr>\n",
              "      <th>6</th>\n",
              "      <td>0/test-img-1002.jpg</td>\n",
              "      <td>cmd</td>\n",
              "    </tr>\n",
              "    <tr>\n",
              "      <th>7</th>\n",
              "      <td>0/test-img-1003.jpg</td>\n",
              "      <td>cmd</td>\n",
              "    </tr>\n",
              "    <tr>\n",
              "      <th>8</th>\n",
              "      <td>0/test-img-1004.jpg</td>\n",
              "      <td>cmd</td>\n",
              "    </tr>\n",
              "    <tr>\n",
              "      <th>9</th>\n",
              "      <td>0/test-img-1005.jpg</td>\n",
              "      <td>cgm</td>\n",
              "    </tr>\n",
              "  </tbody>\n",
              "</table>\n",
              "</div>"
            ],
            "text/plain": [
              "                    id predicted\n",
              "0     0/test-img-0.jpg      cbsd\n",
              "1     0/test-img-1.jpg      cbsd\n",
              "2    0/test-img-10.jpg       cmd\n",
              "3   0/test-img-100.jpg       cgm\n",
              "4  0/test-img-1000.jpg      cbsd\n",
              "5  0/test-img-1001.jpg       cmd\n",
              "6  0/test-img-1002.jpg       cmd\n",
              "7  0/test-img-1003.jpg       cmd\n",
              "8  0/test-img-1004.jpg       cmd\n",
              "9  0/test-img-1005.jpg       cgm"
            ]
          },
          "metadata": {
            "tags": []
          },
          "execution_count": 20
        }
      ]
    },
    {
      "cell_type": "code",
      "metadata": {
        "id": "3Vhb868KgrL9",
        "colab_type": "code",
        "colab": {}
      },
      "source": [
        "cp Cassava_NonGrp_MulModels540_2608_v18.csv /home/bribeiro/Phong/Nat19/Cassava_NonGrp_MulModels540_2608_v18.csv"
      ],
      "execution_count": null,
      "outputs": []
    },
    {
      "cell_type": "code",
      "metadata": {
        "id": "y1evHi9QgrMB",
        "colab_type": "code",
        "colab": {},
        "outputId": "903a625c-3425-47fa-d1eb-b8123e04b219"
      },
      "source": [
        "print(predicted_class_indices_mean)"
      ],
      "execution_count": null,
      "outputs": [
        {
          "output_type": "stream",
          "text": [
            "[[2871 3283  370 1983 3183]\n",
            " [1178  417  952  674 2199]\n",
            " [3366 1868  952  369 1126]\n",
            " [ 576 1887 2890 1077  413]\n",
            " [1042 2192  370  677 3183]]\n"
          ],
          "name": "stdout"
        }
      ]
    },
    {
      "cell_type": "code",
      "metadata": {
        "id": "zjC1M6BOgrMD",
        "colab_type": "code",
        "colab": {},
        "outputId": "34af4905-5ade-410b-b1b2-c65e69531ec1"
      },
      "source": [
        "print(mean_pred5)"
      ],
      "execution_count": null,
      "outputs": [
        {
          "output_type": "stream",
          "text": [
            "[[7.2487252e-04 9.8896933e-01 1.0173460e-02 8.3752675e-05 4.8574828e-05]\n",
            " [2.2832712e-03 9.9491137e-01 2.2981958e-03 4.8259625e-04 2.4632920e-05]\n",
            " [1.2129356e-02 3.9386909e-02 4.8047924e-01 4.6745443e-01 5.5008027e-04]\n",
            " ...\n",
            " [2.1687758e-05 5.8596060e-03 9.9397594e-01 1.4108299e-04 1.6413582e-06]\n",
            " [8.1261871e-03 3.7213583e-03 1.8585259e-02 9.4332904e-01 2.6238183e-02]\n",
            " [4.5832782e-03 7.9097033e-02 1.4678237e-02 9.0130669e-01 3.3476728e-04]]\n"
          ],
          "name": "stdout"
        }
      ]
    },
    {
      "cell_type": "code",
      "metadata": {
        "id": "MBt5XYehgrMF",
        "colab_type": "code",
        "colab": {},
        "outputId": "f2f83405-0523-4a5e-dcaa-d9af15cda396"
      },
      "source": [
        "mean_pred = (mean_pred1+mean_pred2+mean_pred3+mean_pred4+mean_pred5)/5\n",
        "print(mean_pred)"
      ],
      "execution_count": null,
      "outputs": [
        {
          "output_type": "stream",
          "text": [
            "[[9.6522056e-04 9.8142862e-01 1.4068015e-02 6.6054368e-04 2.8776231e-03]\n",
            " [5.6501431e-03 9.9319887e-01 6.5908872e-04 4.5718258e-04 3.4691500e-05]\n",
            " [8.9761121e-03 1.9519504e-02 1.0516248e-01 8.6620486e-01 1.3697715e-04]\n",
            " ...\n",
            " [1.2137207e-03 1.2587723e-03 9.9749452e-01 3.2582342e-05 4.5947164e-07]\n",
            " [2.2981330e-03 6.0854603e-02 1.8602373e-02 9.1255158e-01 5.6933006e-03]\n",
            " [1.3754439e-03 5.8712386e-02 3.2648563e-02 9.0717393e-01 8.9703462e-05]]\n"
          ],
          "name": "stdout"
        }
      ]
    },
    {
      "cell_type": "code",
      "metadata": {
        "id": "pEIo0mCxgrMH",
        "colab_type": "code",
        "colab": {},
        "outputId": "e050a39a-8435-4e12-f77e-d837b70e2698"
      },
      "source": [
        "print(mean_pred)"
      ],
      "execution_count": null,
      "outputs": [
        {
          "output_type": "stream",
          "text": [
            "[array([[7.2487252e-04, 9.8896933e-01, 1.0173460e-02, 8.3752675e-05,\n",
            "        4.8574828e-05],\n",
            "       [2.2832712e-03, 9.9491137e-01, 2.2981958e-03, 4.8259625e-04,\n",
            "        2.4632920e-05],\n",
            "       [1.2129356e-02, 3.9386909e-02, 4.8047924e-01, 4.6745443e-01,\n",
            "        5.5008027e-04],\n",
            "       ...,\n",
            "       [2.1687758e-05, 5.8596060e-03, 9.9397594e-01, 1.4108299e-04,\n",
            "        1.6413582e-06],\n",
            "       [8.1261871e-03, 3.7213583e-03, 1.8585259e-02, 9.4332904e-01,\n",
            "        2.6238183e-02],\n",
            "       [4.5832782e-03, 7.9097033e-02, 1.4678237e-02, 9.0130669e-01,\n",
            "        3.3476728e-04]], dtype=float32), array([[1.14167354e-03, 9.91292894e-01, 6.21548574e-03, 6.40222977e-04,\n",
            "        7.09746790e-04],\n",
            "       [2.27560457e-02, 9.76203680e-01, 6.85587234e-04, 2.43335191e-04,\n",
            "        1.11334426e-04],\n",
            "       [3.14941956e-03, 2.44147629e-02, 5.67656709e-03, 9.66741204e-01,\n",
            "        1.79596500e-05],\n",
            "       ...,\n",
            "       [2.90619737e-05, 5.52544293e-07, 9.99969721e-01, 6.96344500e-07,\n",
            "        4.01565146e-08],\n",
            "       [2.72988909e-05, 2.04056710e-06, 3.30890808e-03, 9.96660829e-01,\n",
            "        9.07236995e-07],\n",
            "       [1.43121752e-05, 1.94273642e-04, 7.16527284e-05, 9.99719560e-01,\n",
            "        2.35312783e-07]], dtype=float32), array([[2.90981028e-03, 9.35686350e-01, 4.68775257e-02, 9.80961719e-04,\n",
            "        1.35452589e-02],\n",
            "       [1.72820967e-03, 9.98094380e-01, 1.29647146e-04, 2.50753274e-05,\n",
            "        2.26890006e-05],\n",
            "       [5.75925333e-05, 2.77180923e-04, 1.17724075e-03, 9.98487353e-01,\n",
            "        5.74138596e-07],\n",
            "       ...,\n",
            "       [6.00217748e-03, 3.49810871e-05, 9.93954003e-01, 8.26406995e-06,\n",
            "        5.96257678e-07],\n",
            "       [1.80058623e-06, 2.48433503e-06, 1.31088984e-03, 9.98684466e-01,\n",
            "        3.81535983e-07],\n",
            "       [1.92917330e-04, 8.20327259e-04, 1.52312816e-04, 9.98819649e-01,\n",
            "        1.47925775e-05]], dtype=float32), array([[2.2668639e-05, 9.9161643e-01, 6.7837150e-03, 1.5550958e-03,\n",
            "        2.2098970e-05],\n",
            "       [9.5876783e-07, 9.9999624e-01, 2.5099331e-07, 2.4674268e-06,\n",
            "        7.3863404e-09],\n",
            "       [2.9483432e-02, 3.1558316e-02, 3.6868494e-02, 9.0197372e-01,\n",
            "        1.1599379e-04],\n",
            "       ...,\n",
            "       [1.5145454e-05, 3.9741443e-04, 9.9958247e-01, 5.0051117e-06,\n",
            "        1.4317486e-08],\n",
            "       [6.9838807e-06, 4.8858748e-04, 3.9306504e-04, 9.9911094e-01,\n",
            "        4.5266381e-07],\n",
            "       [2.0836638e-03, 2.1340387e-01, 1.4056672e-01, 6.4384764e-01,\n",
            "        9.8099379e-05]], dtype=float32), array([[2.7077831e-05, 9.9957794e-01, 2.8988792e-04, 4.2685166e-05,\n",
            "        6.2434985e-05],\n",
            "       [1.4822300e-03, 9.9678868e-01, 1.8176250e-04, 1.5324388e-03,\n",
            "        1.4793780e-05],\n",
            "       [6.0762144e-05, 1.9603553e-03, 1.6108280e-03, 9.9636775e-01,\n",
            "        2.7790571e-07],\n",
            "       ...,\n",
            "       [5.3053901e-07, 1.3078093e-06, 9.9999028e-01, 7.8632002e-06,\n",
            "        5.2683249e-09],\n",
            "       [3.3283941e-03, 3.0005857e-01, 6.9413744e-02, 6.2497276e-01,\n",
            "        2.2265799e-03],\n",
            "       [3.0480558e-06, 4.6441648e-05, 7.7738701e-03, 9.9217606e-01,\n",
            "        6.2275541e-07]], dtype=float32)]\n"
          ],
          "name": "stdout"
        }
      ]
    }
  ]
}