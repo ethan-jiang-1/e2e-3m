{
 "cells": [
  {
   "cell_type": "code",
   "execution_count": 15,
   "metadata": {},
   "outputs": [
    {
     "name": "stdout",
     "output_type": "stream",
     "text": [
      "/media/datastorage/Phong/cifar10/cifar-10-batches-py\n"
     ]
    }
   ],
   "source": [
    "cd /media/datastorage/Phong/cifar10/cifar-10-batches-py/"
   ]
  },
  {
   "cell_type": "code",
   "execution_count": 16,
   "metadata": {},
   "outputs": [],
   "source": [
    "import numpy as np\n",
    "import os\n",
    "\n",
    "# mean_pred3_1 = np.load(os.path.join('pred_npy','Cifar10_Xception_MulModels299_GRU_L3.npy'))\n",
    "mean_pred3_2 = np.load(os.path.join('pred_npy','Cifar10_SEResNext101_LRG299_L3.npy'))\n",
    "mean_pred3_3 = np.load(os.path.join('pred_npy','Cifar10_LRG299_Mul_Pretrained_V3_3MIcpRes_STD_L1.npy'))\n",
    "mean_pred3_5 = np.load(os.path.join('pred_npy','Cifar10_Eff_B5_345_L2.npy'))\n",
    "\n",
    "mean_pred3 = (mean_pred3_5+mean_pred3_2+mean_pred3_3)/3\n",
    "# print(mean_pred3[0:9])"
   ]
  },
  {
   "cell_type": "code",
   "execution_count": null,
   "metadata": {},
   "outputs": [],
   "source": [
    "# mean_a = (a1+a2+a3+a4)/4\n",
    "\n",
    "from keras.preprocessing.image import ImageDataGenerator\n",
    "from math import ceil\n",
    "import numpy as np\n",
    "from keras_applications.imagenet_utils import preprocess_input\n",
    "\n",
    "# PREDICT ON OFFICIAL TEST\n",
    "train_datagen = ImageDataGenerator(\n",
    "#     rescale = 1./255,\n",
    "    rotation_range=30,\n",
    "    width_shift_range=0.3,\n",
    "    height_shift_range=0.3,\n",
    "    shear_range=0.3,\n",
    "    zoom_range=0.3,\n",
    "    horizontal_flip=True,\n",
    "    vertical_flip=True,##\n",
    "#     brightness_range=[0.5, 1.5],##\n",
    "    channel_shift_range=10,##\n",
    "    fill_mode='nearest',\n",
    "    preprocessing_function=preprocess_input,\n",
    ")\n",
    "\n",
    "test_datagen1 = ImageDataGenerator(\n",
    "#     rescale = 1./255,\n",
    "    preprocessing_function=preprocess_input\n",
    ")\n",
    "\n",
    "batch_size = 30\n",
    "\n",
    "train_set = train_datagen.flow_from_directory('train_resized_299',\n",
    "                                                 target_size = (299, 299),\n",
    "                                                 batch_size = batch_size,\n",
    "                                                 class_mode = 'categorical',\n",
    "                                                 shuffle=True,\n",
    "                                                 seed=7,\n",
    "#                                                  subset=\"training\"\n",
    "                                              )\n",
    "\n",
    "test_set1 = test_datagen1.flow_from_directory('test_resized_299',\n",
    "                                                 target_size = (299, 299),\n",
    "                                                 batch_size = batch_size,\n",
    "                                                 class_mode = 'categorical',\n",
    "                                                 shuffle=False,\n",
    "                                                 seed=7,\n",
    "#                                                  subset=\"validation\"\n",
    "                                             )\n",
    "\n",
    "predicted_class_indices_mean=np.argmax(mean_pred3,axis=1)\n",
    "labels = (train_set.class_indices)\n",
    "labels = dict((v,k) for k,v in labels.items())\n",
    "finalpre = [labels[k] for k in predicted_class_indices_mean]\n",
    "\n",
    "import pandas as pd\n",
    "filenames=test_set1.filenames\n",
    "results=pd.DataFrame({\"id\":filenames,\n",
    "                      \"predicted\":finalpre,\n",
    "                      })\n",
    "results.to_csv('Cifar10_MulModels299_AVG_Assembe_2608_v1.csv')\n",
    "results.head(20)"
   ]
  },
  {
   "cell_type": "code",
   "execution_count": 5,
   "metadata": {},
   "outputs": [],
   "source": [
    "mean_pred3_1 = np.load(os.path.join('pred_npy','Cifar10_Xception_LRG299_L2.npy'))\n",
    "mean_pred3_2 = np.load(os.path.join('pred_npy','Cifar10_SEResNext101_LRG299_L3.npy'))\n",
    "mean_pred3_3 = np.load(os.path.join('pred_npy','Cifar10_LRG299_Mul_Pretrained_V3_3MIcpRes_STD_L1.npy'))\n",
    "mean_pred3_5 = np.load(os.path.join('pred_npy','Cifar10_Eff_B5_345_L2.npy'))\n",
    "\n",
    "mean_pred1235 = (mean_pred3_5+mean_pred3_2+mean_pred3_3+mean_pred3_1)/4\n",
    "# print(mean_pred3[0:9])"
   ]
  },
  {
   "cell_type": "code",
   "execution_count": 6,
   "metadata": {},
   "outputs": [
    {
     "name": "stderr",
     "output_type": "stream",
     "text": [
      "Using TensorFlow backend.\n",
      "/usr/local/lib/python3.6/dist-packages/tensorflow/python/framework/dtypes.py:523: FutureWarning: Passing (type, 1) or '1type' as a synonym of type is deprecated; in a future version of numpy, it will be understood as (type, (1,)) / '(1,)type'.\n",
      "  _np_qint8 = np.dtype([(\"qint8\", np.int8, 1)])\n",
      "/usr/local/lib/python3.6/dist-packages/tensorflow/python/framework/dtypes.py:524: FutureWarning: Passing (type, 1) or '1type' as a synonym of type is deprecated; in a future version of numpy, it will be understood as (type, (1,)) / '(1,)type'.\n",
      "  _np_quint8 = np.dtype([(\"quint8\", np.uint8, 1)])\n",
      "/usr/local/lib/python3.6/dist-packages/tensorflow/python/framework/dtypes.py:525: FutureWarning: Passing (type, 1) or '1type' as a synonym of type is deprecated; in a future version of numpy, it will be understood as (type, (1,)) / '(1,)type'.\n",
      "  _np_qint16 = np.dtype([(\"qint16\", np.int16, 1)])\n",
      "/usr/local/lib/python3.6/dist-packages/tensorflow/python/framework/dtypes.py:526: FutureWarning: Passing (type, 1) or '1type' as a synonym of type is deprecated; in a future version of numpy, it will be understood as (type, (1,)) / '(1,)type'.\n",
      "  _np_quint16 = np.dtype([(\"quint16\", np.uint16, 1)])\n",
      "/usr/local/lib/python3.6/dist-packages/tensorflow/python/framework/dtypes.py:527: FutureWarning: Passing (type, 1) or '1type' as a synonym of type is deprecated; in a future version of numpy, it will be understood as (type, (1,)) / '(1,)type'.\n",
      "  _np_qint32 = np.dtype([(\"qint32\", np.int32, 1)])\n",
      "/usr/local/lib/python3.6/dist-packages/tensorflow/python/framework/dtypes.py:532: FutureWarning: Passing (type, 1) or '1type' as a synonym of type is deprecated; in a future version of numpy, it will be understood as (type, (1,)) / '(1,)type'.\n",
      "  np_resource = np.dtype([(\"resource\", np.ubyte, 1)])\n"
     ]
    },
    {
     "name": "stdout",
     "output_type": "stream",
     "text": [
      "Found 50000 images belonging to 10 classes.\n",
      "Found 10000 images belonging to 10 classes.\n"
     ]
    },
    {
     "data": {
      "text/html": [
       "<div>\n",
       "<style scoped>\n",
       "    .dataframe tbody tr th:only-of-type {\n",
       "        vertical-align: middle;\n",
       "    }\n",
       "\n",
       "    .dataframe tbody tr th {\n",
       "        vertical-align: top;\n",
       "    }\n",
       "\n",
       "    .dataframe thead th {\n",
       "        text-align: right;\n",
       "    }\n",
       "</style>\n",
       "<table border=\"1\" class=\"dataframe\">\n",
       "  <thead>\n",
       "    <tr style=\"text-align: right;\">\n",
       "      <th></th>\n",
       "      <th>id</th>\n",
       "      <th>predicted</th>\n",
       "    </tr>\n",
       "  </thead>\n",
       "  <tbody>\n",
       "    <tr>\n",
       "      <th>0</th>\n",
       "      <td>0/aeroplane_s_000002.png</td>\n",
       "      <td>0</td>\n",
       "    </tr>\n",
       "    <tr>\n",
       "      <th>1</th>\n",
       "      <td>0/aeroplane_s_000040.png</td>\n",
       "      <td>0</td>\n",
       "    </tr>\n",
       "    <tr>\n",
       "      <th>2</th>\n",
       "      <td>0/aeroplane_s_000045.png</td>\n",
       "      <td>0</td>\n",
       "    </tr>\n",
       "    <tr>\n",
       "      <th>3</th>\n",
       "      <td>0/aeroplane_s_000063.png</td>\n",
       "      <td>0</td>\n",
       "    </tr>\n",
       "    <tr>\n",
       "      <th>4</th>\n",
       "      <td>0/airbus_s_000009.png</td>\n",
       "      <td>0</td>\n",
       "    </tr>\n",
       "    <tr>\n",
       "      <th>5</th>\n",
       "      <td>0/airbus_s_000030.png</td>\n",
       "      <td>0</td>\n",
       "    </tr>\n",
       "    <tr>\n",
       "      <th>6</th>\n",
       "      <td>0/airbus_s_000049.png</td>\n",
       "      <td>0</td>\n",
       "    </tr>\n",
       "    <tr>\n",
       "      <th>7</th>\n",
       "      <td>0/airbus_s_000099.png</td>\n",
       "      <td>0</td>\n",
       "    </tr>\n",
       "    <tr>\n",
       "      <th>8</th>\n",
       "      <td>0/airbus_s_000108.png</td>\n",
       "      <td>0</td>\n",
       "    </tr>\n",
       "    <tr>\n",
       "      <th>9</th>\n",
       "      <td>0/airbus_s_000131.png</td>\n",
       "      <td>0</td>\n",
       "    </tr>\n",
       "    <tr>\n",
       "      <th>10</th>\n",
       "      <td>0/airbus_s_000136.png</td>\n",
       "      <td>0</td>\n",
       "    </tr>\n",
       "    <tr>\n",
       "      <th>11</th>\n",
       "      <td>0/airbus_s_000156.png</td>\n",
       "      <td>0</td>\n",
       "    </tr>\n",
       "    <tr>\n",
       "      <th>12</th>\n",
       "      <td>0/airbus_s_000170.png</td>\n",
       "      <td>0</td>\n",
       "    </tr>\n",
       "    <tr>\n",
       "      <th>13</th>\n",
       "      <td>0/airbus_s_000198.png</td>\n",
       "      <td>0</td>\n",
       "    </tr>\n",
       "    <tr>\n",
       "      <th>14</th>\n",
       "      <td>0/airbus_s_000211.png</td>\n",
       "      <td>0</td>\n",
       "    </tr>\n",
       "    <tr>\n",
       "      <th>15</th>\n",
       "      <td>0/airbus_s_000232.png</td>\n",
       "      <td>0</td>\n",
       "    </tr>\n",
       "    <tr>\n",
       "      <th>16</th>\n",
       "      <td>0/airbus_s_000234.png</td>\n",
       "      <td>0</td>\n",
       "    </tr>\n",
       "    <tr>\n",
       "      <th>17</th>\n",
       "      <td>0/airbus_s_000249.png</td>\n",
       "      <td>0</td>\n",
       "    </tr>\n",
       "    <tr>\n",
       "      <th>18</th>\n",
       "      <td>0/airbus_s_000257.png</td>\n",
       "      <td>0</td>\n",
       "    </tr>\n",
       "    <tr>\n",
       "      <th>19</th>\n",
       "      <td>0/airbus_s_000301.png</td>\n",
       "      <td>0</td>\n",
       "    </tr>\n",
       "  </tbody>\n",
       "</table>\n",
       "</div>"
      ],
      "text/plain": [
       "                          id predicted\n",
       "0   0/aeroplane_s_000002.png         0\n",
       "1   0/aeroplane_s_000040.png         0\n",
       "2   0/aeroplane_s_000045.png         0\n",
       "3   0/aeroplane_s_000063.png         0\n",
       "4      0/airbus_s_000009.png         0\n",
       "5      0/airbus_s_000030.png         0\n",
       "6      0/airbus_s_000049.png         0\n",
       "7      0/airbus_s_000099.png         0\n",
       "8      0/airbus_s_000108.png         0\n",
       "9      0/airbus_s_000131.png         0\n",
       "10     0/airbus_s_000136.png         0\n",
       "11     0/airbus_s_000156.png         0\n",
       "12     0/airbus_s_000170.png         0\n",
       "13     0/airbus_s_000198.png         0\n",
       "14     0/airbus_s_000211.png         0\n",
       "15     0/airbus_s_000232.png         0\n",
       "16     0/airbus_s_000234.png         0\n",
       "17     0/airbus_s_000249.png         0\n",
       "18     0/airbus_s_000257.png         0\n",
       "19     0/airbus_s_000301.png         0"
      ]
     },
     "execution_count": 6,
     "metadata": {},
     "output_type": "execute_result"
    }
   ],
   "source": [
    "# mean_a = (a1+a2+a3+a4)/4\n",
    "\n",
    "from keras.preprocessing.image import ImageDataGenerator\n",
    "from math import ceil\n",
    "import numpy as np\n",
    "from keras_applications.imagenet_utils import preprocess_input\n",
    "\n",
    "# PREDICT ON OFFICIAL TEST\n",
    "train_datagen = ImageDataGenerator(\n",
    "#     rescale = 1./255,\n",
    "    rotation_range=30,\n",
    "    width_shift_range=0.3,\n",
    "    height_shift_range=0.3,\n",
    "    shear_range=0.3,\n",
    "    zoom_range=0.3,\n",
    "    horizontal_flip=True,\n",
    "    vertical_flip=True,##\n",
    "#     brightness_range=[0.5, 1.5],##\n",
    "    channel_shift_range=10,##\n",
    "    fill_mode='nearest',\n",
    "    preprocessing_function=preprocess_input,\n",
    ")\n",
    "\n",
    "test_datagen1 = ImageDataGenerator(\n",
    "#     rescale = 1./255,\n",
    "    preprocessing_function=preprocess_input\n",
    ")\n",
    "\n",
    "batch_size = 30\n",
    "\n",
    "train_set = train_datagen.flow_from_directory('train_resized_299',\n",
    "                                                 target_size = (299, 299),\n",
    "                                                 batch_size = batch_size,\n",
    "                                                 class_mode = 'categorical',\n",
    "                                                 shuffle=True,\n",
    "                                                 seed=7,\n",
    "#                                                  subset=\"training\"\n",
    "                                              )\n",
    "\n",
    "test_set1 = test_datagen1.flow_from_directory('test_resized_299',\n",
    "                                                 target_size = (299, 299),\n",
    "                                                 batch_size = batch_size,\n",
    "                                                 class_mode = 'categorical',\n",
    "                                                 shuffle=False,\n",
    "                                                 seed=7,\n",
    "#                                                  subset=\"validation\"\n",
    "                                             )\n",
    "\n",
    "predicted_class_indices_mean=np.argmax(mean_pred1235,axis=1)\n",
    "labels = (train_set.class_indices)\n",
    "labels = dict((v,k) for k,v in labels.items())\n",
    "finalpre = [labels[k] for k in predicted_class_indices_mean]\n",
    "\n",
    "import pandas as pd\n",
    "filenames=test_set1.filenames\n",
    "results=pd.DataFrame({\"id\":filenames,\n",
    "                      \"predicted\":finalpre,\n",
    "                      })\n",
    "results.to_csv('Cifar10_MulModels299_AVG_Assembe_2608_v2.csv')\n",
    "results.head(10)"
   ]
  },
  {
   "cell_type": "code",
   "execution_count": 7,
   "metadata": {},
   "outputs": [],
   "source": [
    "cp Cifar10_MulModels299_AVG_Assembe_2608_v2.csv /home/bribeiro/Phong/Nat19/Cifar10_2608_v2.csv"
   ]
  },
  {
   "cell_type": "code",
   "execution_count": 8,
   "metadata": {},
   "outputs": [],
   "source": [
    "\n",
    "mean_pred3_6 = np.load(os.path.join('pred_npy','Cifar10_EfficientB0_299_STD_L2.npy'))#!!!\n",
    "\n",
    "mean_pred12356 = (mean_pred3_5+mean_pred3_2+mean_pred3_3+mean_pred3_1+mean_pred3_6)/5\n"
   ]
  },
  {
   "cell_type": "code",
   "execution_count": 9,
   "metadata": {},
   "outputs": [],
   "source": [
    "predicted_class_indices_mean=np.argmax(mean_pred12356,axis=1)\n",
    "labels = (train_set.class_indices)\n",
    "labels = dict((v,k) for k,v in labels.items())\n",
    "finalpre = [labels[k] for k in predicted_class_indices_mean]\n",
    "\n",
    "import pandas as pd\n",
    "filenames=test_set1.filenames\n",
    "results=pd.DataFrame({\"id\":filenames,\n",
    "                      \"predicted\":finalpre,\n",
    "                      })\n",
    "results.to_csv('Cifar10_MulModels299_AVG_Assembe_2608_v3.csv')\n",
    "# results.head(10)"
   ]
  },
  {
   "cell_type": "code",
   "execution_count": 11,
   "metadata": {},
   "outputs": [],
   "source": [
    "cp Cifar10_MulModels299_AVG_Assembe_2608_v3.csv /home/bribeiro/Phong/Nat19/Cifar10_2608_v3.csv"
   ]
  },
  {
   "cell_type": "code",
   "execution_count": 13,
   "metadata": {},
   "outputs": [],
   "source": [
    "mean_pred2356 = (mean_pred3_5+mean_pred3_2+mean_pred3_3+mean_pred3_6)/4\n",
    "\n",
    "predicted_class_indices_mean=np.argmax(mean_pred2356,axis=1)\n",
    "labels = (train_set.class_indices)\n",
    "labels = dict((v,k) for k,v in labels.items())\n",
    "finalpre = [labels[k] for k in predicted_class_indices_mean]\n",
    "\n",
    "import pandas as pd\n",
    "filenames=test_set1.filenames\n",
    "results=pd.DataFrame({\"id\":filenames,\n",
    "                      \"predicted\":finalpre,\n",
    "                      })\n",
    "results.to_csv('Cifar10_MulModels299_AVG_Assembe_2608_v4.csv')\n",
    "# results.head(10)"
   ]
  },
  {
   "cell_type": "code",
   "execution_count": 14,
   "metadata": {},
   "outputs": [],
   "source": [
    "cp Cifar10_MulModels299_AVG_Assembe_2608_v4.csv /home/bribeiro/Phong/Nat19/Cifar10_2608_v4.csv"
   ]
  },
  {
   "cell_type": "code",
   "execution_count": 17,
   "metadata": {},
   "outputs": [],
   "source": [
    "\n",
    "mean_pred3_7 = np.load(os.path.join('pred_npy','Cifar10_EfficientB7_299_STD_L3.npy'))\n",
    "mean_pred2357 = (mean_pred3_2+mean_pred3_3+mean_pred3_5+mean_pred3_7)/4"
   ]
  },
  {
   "cell_type": "code",
   "execution_count": 18,
   "metadata": {},
   "outputs": [],
   "source": [
    "predicted_class_indices_mean=np.argmax(mean_pred2357,axis=1)\n",
    "labels = (train_set.class_indices)\n",
    "labels = dict((v,k) for k,v in labels.items())\n",
    "finalpre = [labels[k] for k in predicted_class_indices_mean]\n",
    "\n",
    "import pandas as pd\n",
    "filenames=test_set1.filenames\n",
    "results=pd.DataFrame({\"id\":filenames,\n",
    "                      \"predicted\":finalpre,\n",
    "                      })\n",
    "results.to_csv('Cifar10_MulModels299_AVG_Assembe_2708_v1.csv')"
   ]
  },
  {
   "cell_type": "code",
   "execution_count": 19,
   "metadata": {},
   "outputs": [],
   "source": [
    "cp Cifar10_MulModels299_AVG_Assembe_2708_v1.csv /home/bribeiro/Phong/Nat19/Cifar10_2708_v1.csv"
   ]
  },
  {
   "cell_type": "code",
   "execution_count": 20,
   "metadata": {},
   "outputs": [],
   "source": [
    "mean_pred3_6 = np.load(os.path.join('pred_npy','Cifar10_EfficientB0_299_STD_L2.npy'))#!!!"
   ]
  },
  {
   "cell_type": "code",
   "execution_count": 21,
   "metadata": {},
   "outputs": [],
   "source": [
    "mean_pred23567 = (mean_pred3_2+mean_pred3_3+mean_pred3_5+mean_pred3_6+mean_pred3_7)/5"
   ]
  },
  {
   "cell_type": "code",
   "execution_count": 22,
   "metadata": {},
   "outputs": [],
   "source": [
    "predicted_class_indices_mean=np.argmax(mean_pred23567,axis=1)\n",
    "labels = (train_set.class_indices)\n",
    "labels = dict((v,k) for k,v in labels.items())\n",
    "finalpre = [labels[k] for k in predicted_class_indices_mean]\n",
    "\n",
    "import pandas as pd\n",
    "filenames=test_set1.filenames\n",
    "results=pd.DataFrame({\"id\":filenames,\n",
    "                      \"predicted\":finalpre,\n",
    "                      })\n",
    "results.to_csv('Cifar10_MulModels299_AVG_Assembe_2708_v2.csv')"
   ]
  },
  {
   "cell_type": "code",
   "execution_count": 23,
   "metadata": {},
   "outputs": [],
   "source": [
    "cp Cifar10_MulModels299_AVG_Assembe_2708_v2.csv /home/bribeiro/Phong/Nat19/Cifar10_2708_v2.csv"
   ]
  },
  {
   "cell_type": "code",
   "execution_count": null,
   "metadata": {},
   "outputs": [],
   "source": []
  },
  {
   "cell_type": "code",
   "execution_count": 24,
   "metadata": {},
   "outputs": [],
   "source": [
    "mean_pred3_1 = np.load(os.path.join('pred_npy','Cifar10_Xception_LRG299_L2.npy'))"
   ]
  },
  {
   "cell_type": "code",
   "execution_count": 25,
   "metadata": {},
   "outputs": [],
   "source": [
    "mean_pred123567 = (mean_pred3_1+mean_pred3_2+mean_pred3_3+mean_pred3_5+mean_pred3_6+mean_pred3_7)/6"
   ]
  },
  {
   "cell_type": "code",
   "execution_count": 26,
   "metadata": {},
   "outputs": [],
   "source": [
    "predicted_class_indices_mean=np.argmax(mean_pred123567,axis=1)\n",
    "labels = (train_set.class_indices)\n",
    "labels = dict((v,k) for k,v in labels.items())\n",
    "finalpre = [labels[k] for k in predicted_class_indices_mean]\n",
    "\n",
    "import pandas as pd\n",
    "filenames=test_set1.filenames\n",
    "results=pd.DataFrame({\"id\":filenames,\n",
    "                      \"predicted\":finalpre,\n",
    "                      })\n",
    "results.to_csv('Cifar10_MulModels299_AVG_Assembe_2708_v3.csv')"
   ]
  },
  {
   "cell_type": "code",
   "execution_count": null,
   "metadata": {},
   "outputs": [],
   "source": [
    "cp Cifar10_MulModels299_AVG_Assembe_2708_v3.csv /home/bribeiro/Phong/Nat19/Cifar10_2708_v3.csv"
   ]
  },
  {
   "cell_type": "code",
   "execution_count": 43,
   "metadata": {},
   "outputs": [],
   "source": [
    "mean_pred257 = (mean_pred3_2+mean_pred3_5+mean_pred3_7)/3\n",
    "\n",
    "predicted_class_indices_mean=np.argmax(mean_pred257,axis=1)\n",
    "labels = (train_set.class_indices)\n",
    "labels = dict((v,k) for k,v in labels.items())\n",
    "finalpre = [labels[k] for k in predicted_class_indices_mean]\n",
    "\n",
    "import pandas as pd\n",
    "filenames=test_set1.filenames\n",
    "results=pd.DataFrame({\"id\":filenames,\n",
    "                      \"predicted\":finalpre,\n",
    "                      })\n",
    "results.to_csv('Cifar10_MulModels299_AVG_Assembe_2708_v6.csv')"
   ]
  },
  {
   "cell_type": "code",
   "execution_count": 44,
   "metadata": {},
   "outputs": [],
   "source": [
    "cp Cifar10_MulModels299_AVG_Assembe_2708_v6.csv /home/bribeiro/Phong/Nat19/Cifar10_2708_v6.csv"
   ]
  },
  {
   "cell_type": "code",
   "execution_count": 28,
   "metadata": {},
   "outputs": [],
   "source": [
    "a1 = mean_pred3_1\n",
    "a2 = mean_pred3_2\n",
    "a3 = mean_pred3_3\n",
    "# a4 = mean_pred3_4\n",
    "a5 = mean_pred3_5\n",
    "a6 = mean_pred3_6\n",
    "a7 = mean_pred3_7"
   ]
  },
  {
   "cell_type": "code",
   "execution_count": 29,
   "metadata": {},
   "outputs": [],
   "source": [
    "x1 = a1\n",
    "x2 = a2\n",
    "x3 = a3\n",
    "# x4 = a4\n",
    "x5 = a5\n",
    "x6 = a6\n",
    "x7 = a7"
   ]
  },
  {
   "cell_type": "code",
   "execution_count": 30,
   "metadata": {},
   "outputs": [],
   "source": [
    "#x1\n",
    "for i in range(len(x1)):\n",
    "    i_max = np.argmax(x1[i], axis=0)\n",
    "    for idx in range(10):\n",
    "        if idx != i_max:\n",
    "            x1[i][idx] = 0\n",
    "        else:\n",
    "            x1[i][idx] = 1            \n",
    "# print(a1) "
   ]
  },
  {
   "cell_type": "code",
   "execution_count": 31,
   "metadata": {},
   "outputs": [],
   "source": [
    "#x2\n",
    "for i in range(len(x2)):\n",
    "    i_max = np.argmax(x2[i], axis=0)\n",
    "    for idx in range(10):\n",
    "        if idx != i_max:\n",
    "            x2[i][idx] = 0\n",
    "        else:\n",
    "            x2[i][idx] = 1            \n",
    "# print(a1) "
   ]
  },
  {
   "cell_type": "code",
   "execution_count": 32,
   "metadata": {},
   "outputs": [],
   "source": [
    "#x3\n",
    "for i in range(len(x3)):\n",
    "    i_max = np.argmax(x3[i], axis=0)\n",
    "    for idx in range(10):\n",
    "        if idx != i_max:\n",
    "            x3[i][idx] = 0\n",
    "        else:\n",
    "            x3[i][idx] = 1            \n",
    "# print(a1) "
   ]
  },
  {
   "cell_type": "code",
   "execution_count": null,
   "metadata": {},
   "outputs": [],
   "source": []
  },
  {
   "cell_type": "code",
   "execution_count": 33,
   "metadata": {},
   "outputs": [],
   "source": [
    "#x5\n",
    "for i in range(len(x5)):\n",
    "    i_max = np.argmax(x5[i], axis=0)\n",
    "    for idx in range(10):\n",
    "        if idx != i_max:\n",
    "            x5[i][idx] = 0\n",
    "        else:\n",
    "            x5[i][idx] = 1            \n",
    "# print(a1) "
   ]
  },
  {
   "cell_type": "code",
   "execution_count": 34,
   "metadata": {},
   "outputs": [],
   "source": [
    "#x6\n",
    "for i in range(len(x6)):\n",
    "    i_max = np.argmax(x6[i], axis=0)\n",
    "    for idx in range(10):\n",
    "        if idx != i_max:\n",
    "            x6[i][idx] = 0\n",
    "        else:\n",
    "            x6[i][idx] = 1            \n",
    "# print(a1) "
   ]
  },
  {
   "cell_type": "code",
   "execution_count": 35,
   "metadata": {},
   "outputs": [],
   "source": [
    "#x7\n",
    "for i in range(len(x7)):\n",
    "    i_max = np.argmax(x7[i], axis=0)\n",
    "    for idx in range(10):\n",
    "        if idx != i_max:\n",
    "            x7[i][idx] = 0\n",
    "        else:\n",
    "            x7[i][idx] = 1            \n",
    "# print(a1) "
   ]
  },
  {
   "cell_type": "code",
   "execution_count": 37,
   "metadata": {},
   "outputs": [],
   "source": [
    "mean_x2357 = (x2+x3+x5+x7)/4"
   ]
  },
  {
   "cell_type": "code",
   "execution_count": 39,
   "metadata": {},
   "outputs": [],
   "source": [
    "predicted_class_indices_mean=np.argmax(mean_x2357,axis=1)\n",
    "labels = (train_set.class_indices)\n",
    "labels = dict((v,k) for k,v in labels.items())\n",
    "finalpre = [labels[k] for k in predicted_class_indices_mean]\n",
    "\n",
    "import pandas as pd\n",
    "filenames=test_set1.filenames\n",
    "results=pd.DataFrame({\"id\":filenames,\n",
    "                      \"predicted\":finalpre,\n",
    "                      })\n",
    "results.to_csv('Cifar10_MulModels299_AVG_Assembe_2708_v4.csv')"
   ]
  },
  {
   "cell_type": "code",
   "execution_count": 40,
   "metadata": {},
   "outputs": [],
   "source": [
    "cp Cifar10_MulModels299_AVG_Assembe_2708_v4.csv /home/bribeiro/Phong/Nat19/Cifar10_2708_v4.csv"
   ]
  },
  {
   "cell_type": "code",
   "execution_count": 41,
   "metadata": {},
   "outputs": [],
   "source": [
    "mean_x235 = (x2+x3+x5)/3\n",
    "\n",
    "predicted_class_indices_mean=np.argmax(mean_x235,axis=1)\n",
    "labels = (train_set.class_indices)\n",
    "labels = dict((v,k) for k,v in labels.items())\n",
    "finalpre = [labels[k] for k in predicted_class_indices_mean]\n",
    "\n",
    "import pandas as pd\n",
    "filenames=test_set1.filenames\n",
    "results=pd.DataFrame({\"id\":filenames,\n",
    "                      \"predicted\":finalpre,\n",
    "                      })\n",
    "results.to_csv('Cifar10_MulModels299_AVG_Assembe_2708_v5.csv')"
   ]
  },
  {
   "cell_type": "code",
   "execution_count": 42,
   "metadata": {},
   "outputs": [],
   "source": [
    "cp Cifar10_MulModels299_AVG_Assembe_2708_v5.csv /home/bribeiro/Phong/Nat19/Cifar10_2708_v5.csv"
   ]
  },
  {
   "cell_type": "code",
   "execution_count": 45,
   "metadata": {},
   "outputs": [],
   "source": [
    "mean_pred3_8 = np.load(os.path.join('pred_npy','Cifar10_EfficientB4_299_STD_L3.npy'))\n",
    "a8 = mean_pred3_8\n",
    "\n",
    "mean_pred23578 = (mean_pred3_2+mean_pred3_3+mean_pred3_5+mean_pred3_7+mean_pred3_8)/5\n"
   ]
  },
  {
   "cell_type": "code",
   "execution_count": 46,
   "metadata": {},
   "outputs": [],
   "source": [
    "\n",
    "predicted_class_indices_mean=np.argmax(mean_pred23578,axis=1)\n",
    "labels = (train_set.class_indices)\n",
    "labels = dict((v,k) for k,v in labels.items())\n",
    "finalpre = [labels[k] for k in predicted_class_indices_mean]\n",
    "\n",
    "import pandas as pd\n",
    "filenames=test_set1.filenames\n",
    "results=pd.DataFrame({\"id\":filenames,\n",
    "                      \"predicted\":finalpre,\n",
    "                      })\n",
    "results.to_csv('Cifar10_MulModels299_AVG_Assembe_mean_pred23578_2808_v1.csv')"
   ]
  },
  {
   "cell_type": "code",
   "execution_count": 47,
   "metadata": {},
   "outputs": [],
   "source": [
    "cp Cifar10_MulModels299_AVG_Assembe_mean_pred23578_2808_v1.csv /home/bribeiro/Phong/Nat19/Cifar10_2808_v1.csv"
   ]
  },
  {
   "cell_type": "code",
   "execution_count": 48,
   "metadata": {},
   "outputs": [],
   "source": [
    "mean_pred2578 = (mean_pred3_2+mean_pred3_5+mean_pred3_7+mean_pred3_8)/4\n",
    "\n",
    "predicted_class_indices_mean=np.argmax(mean_pred2578,axis=1)\n",
    "labels = (train_set.class_indices)\n",
    "labels = dict((v,k) for k,v in labels.items())\n",
    "finalpre = [labels[k] for k in predicted_class_indices_mean]\n",
    "\n",
    "import pandas as pd\n",
    "filenames=test_set1.filenames\n",
    "results=pd.DataFrame({\"id\":filenames,\n",
    "                      \"predicted\":finalpre,\n",
    "                      })\n",
    "results.to_csv('Cifar10_MulModels299_AVG_Assembe_mean_pred2578_2808_v1.csv')"
   ]
  },
  {
   "cell_type": "code",
   "execution_count": 49,
   "metadata": {},
   "outputs": [],
   "source": [
    "cp Cifar10_MulModels299_AVG_Assembe_mean_pred2578_2808_v1.csv /home/bribeiro/Phong/Nat19/Cifar10_2808_v2.csv"
   ]
  },
  {
   "cell_type": "code",
   "execution_count": 51,
   "metadata": {},
   "outputs": [],
   "source": [
    "x8 = a8"
   ]
  },
  {
   "cell_type": "code",
   "execution_count": 52,
   "metadata": {},
   "outputs": [],
   "source": [
    "#x7\n",
    "for i in range(len(x8)):\n",
    "    i_max = np.argmax(x8[i], axis=0)\n",
    "    for idx in range(10):\n",
    "        if idx != i_max:\n",
    "            x8[i][idx] = 0\n",
    "        else:\n",
    "            x8[i][idx] = 1            \n",
    "# print(a1) "
   ]
  },
  {
   "cell_type": "code",
   "execution_count": 53,
   "metadata": {},
   "outputs": [],
   "source": [
    "mean_x23578 = (x2+x3+x5+x7+x8)/5\n",
    "\n",
    "predicted_class_indices_mean=np.argmax(mean_x23578,axis=1)\n",
    "labels = (train_set.class_indices)\n",
    "labels = dict((v,k) for k,v in labels.items())\n",
    "finalpre = [labels[k] for k in predicted_class_indices_mean]\n",
    "\n",
    "import pandas as pd\n",
    "filenames=test_set1.filenames\n",
    "results=pd.DataFrame({\"id\":filenames,\n",
    "                      \"predicted\":finalpre,\n",
    "                      })\n",
    "results.to_csv('Cifar10_MulModels299_AVG_Assembe_mean_x23578_2808_v3.csv')"
   ]
  },
  {
   "cell_type": "code",
   "execution_count": 54,
   "metadata": {},
   "outputs": [],
   "source": [
    "cp Cifar10_MulModels299_AVG_Assembe_mean_x23578_2808_v3.csv /home/bribeiro/Phong/Nat19/Cifar10_2808_v3.csv"
   ]
  },
  {
   "cell_type": "code",
   "execution_count": 55,
   "metadata": {},
   "outputs": [],
   "source": [
    "mean_pred235678 = (mean_pred3_2+mean_pred3_3+mean_pred3_5+mean_pred3_6+mean_pred3_7+mean_pred3_8)/6\n",
    "\n",
    "predicted_class_indices_mean=np.argmax(mean_pred235678,axis=1)\n",
    "labels = (train_set.class_indices)\n",
    "labels = dict((v,k) for k,v in labels.items())\n",
    "finalpre = [labels[k] for k in predicted_class_indices_mean]\n",
    "\n",
    "import pandas as pd\n",
    "filenames=test_set1.filenames\n",
    "results=pd.DataFrame({\"id\":filenames,\n",
    "                      \"predicted\":finalpre,\n",
    "                      })\n",
    "results.to_csv('Cifar10_MulModels299_AVG_Assembe_mean_pred235678_2808_v1.csv')"
   ]
  },
  {
   "cell_type": "code",
   "execution_count": 56,
   "metadata": {},
   "outputs": [],
   "source": [
    "cp Cifar10_MulModels299_AVG_Assembe_mean_pred235678_2808_v1.csv /home/bribeiro/Phong/Nat19/Cifar10_2808_v4.csv"
   ]
  },
  {
   "cell_type": "code",
   "execution_count": 57,
   "metadata": {},
   "outputs": [],
   "source": [
    "mean_pred25678 = (mean_pred3_2+mean_pred3_5+mean_pred3_6+mean_pred3_7+mean_pred3_8)/6\n",
    "\n",
    "predicted_class_indices_mean=np.argmax(mean_pred25678,axis=1)\n",
    "labels = (train_set.class_indices)\n",
    "labels = dict((v,k) for k,v in labels.items())\n",
    "finalpre = [labels[k] for k in predicted_class_indices_mean]\n",
    "\n",
    "import pandas as pd\n",
    "filenames=test_set1.filenames\n",
    "results=pd.DataFrame({\"id\":filenames,\n",
    "                      \"predicted\":finalpre,\n",
    "                      })\n",
    "results.to_csv('Cifar10_MulModels299_AVG_Assembe_mean_pred25678_2808_v1.csv')"
   ]
  },
  {
   "cell_type": "code",
   "execution_count": 58,
   "metadata": {},
   "outputs": [],
   "source": [
    "cp Cifar10_MulModels299_AVG_Assembe_mean_pred25678_2808_v1.csv /home/bribeiro/Phong/Nat19/Cifar10_2808_v5.csv"
   ]
  },
  {
   "cell_type": "code",
   "execution_count": null,
   "metadata": {},
   "outputs": [],
   "source": []
  }
 ],
 "metadata": {
  "kernelspec": {
   "display_name": "Python 3",
   "language": "python",
   "name": "python3"
  },
  "language_info": {
   "codemirror_mode": {
    "name": "ipython",
    "version": 3
   },
   "file_extension": ".py",
   "mimetype": "text/x-python",
   "name": "python",
   "nbconvert_exporter": "python",
   "pygments_lexer": "ipython3",
   "version": "3.6.9"
  }
 },
 "nbformat": 4,
 "nbformat_minor": 4
}
